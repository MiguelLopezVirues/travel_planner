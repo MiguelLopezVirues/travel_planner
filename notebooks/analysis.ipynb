{
 "cells": [
  {
   "cell_type": "markdown",
   "metadata": {},
   "source": [
    "# 0. Imports"
   ]
  },
  {
   "cell_type": "code",
   "execution_count": 94,
   "metadata": {},
   "outputs": [],
   "source": [
    "import pandas as pd\n",
    "import numpy as np\n",
    "import matplotlib.pyplot as plt \n",
    "import seaborn as sns\n",
    "\n",
    "import sys \n",
    "sys.path.append(\"..\")\n",
    "from src.analysis_support import error_band\n"
   ]
  },
  {
   "cell_type": "markdown",
   "metadata": {},
   "source": [
    "# 1. Load datasets"
   ]
  },
  {
   "cell_type": "markdown",
   "metadata": {},
   "source": [
    "## 1.1 Flights"
   ]
  },
  {
   "cell_type": "code",
   "execution_count": 95,
   "metadata": {},
   "outputs": [],
   "source": [
    "flight_itinieraries = pd.read_csv(\"../data/flights/flight_itinieraries_cleaned.csv\",index_col=0)"
   ]
  },
  {
   "cell_type": "markdown",
   "metadata": {},
   "source": [
    "## 1.2 Accommodations"
   ]
  },
  {
   "cell_type": "code",
   "execution_count": 96,
   "metadata": {},
   "outputs": [],
   "source": [
    "accommodations_df = pd.read_csv(\"../data/accommodations/acommodations_cleaned.csv\",index_col=0)"
   ]
  },
  {
   "cell_type": "markdown",
   "metadata": {},
   "source": [
    "## 1.3 Activities"
   ]
  },
  {
   "cell_type": "code",
   "execution_count": 124,
   "metadata": {},
   "outputs": [],
   "source": [
    "activities_df = pd.read_csv(\"../data/activities/civitatis_activities_cleaned.csv\", index_col=0)"
   ]
  },
  {
   "cell_type": "markdown",
   "metadata": {},
   "source": [
    "# 2. Analysis of destinations"
   ]
  },
  {
   "cell_type": "markdown",
   "metadata": {},
   "source": [
    "### 2.1 Flights"
   ]
  },
  {
   "cell_type": "code",
   "execution_count": 22,
   "metadata": {},
   "outputs": [
    {
     "data": {
      "text/plain": [
       "Index(['score', 'price', 'price_currency', 'duration_departure',\n",
       "       'duration_return', 'stops_departure', 'stops_return',\n",
       "       'departure_departure', 'arrival_departure', 'departure_return',\n",
       "       'arrival_return', 'company_departure', 'company_return',\n",
       "       'self_transfer', 'fare_isChangeAllowed', 'fare_isPartiallyChangeable',\n",
       "       'fare_isCancellationAllowed', 'fare_isPartiallyRefundable',\n",
       "       'origin_airport_departure', 'destination_airport_departure',\n",
       "       'origin_airport_return', 'destination_airport_return', 'week',\n",
       "       'destination_city'],\n",
       "      dtype='object')"
      ]
     },
     "execution_count": 22,
     "metadata": {},
     "output_type": "execute_result"
    }
   ],
   "source": [
    "flight_itinieraries.columns"
   ]
  },
  {
   "cell_type": "code",
   "execution_count": 80,
   "metadata": {},
   "outputs": [],
   "source": [
    "flight_itinieraries[\"self_transfer_int\"] = flight_itinieraries[\"self_transfer\"].astype(int)"
   ]
  },
  {
   "cell_type": "markdown",
   "metadata": {},
   "source": [
    "Number of flights from every city for all 3 weeks:"
   ]
  },
  {
   "cell_type": "code",
   "execution_count": 20,
   "metadata": {},
   "outputs": [
    {
     "data": {
      "text/html": [
       "<div>\n",
       "<style scoped>\n",
       "    .dataframe tbody tr th:only-of-type {\n",
       "        vertical-align: middle;\n",
       "    }\n",
       "\n",
       "    .dataframe tbody tr th {\n",
       "        vertical-align: top;\n",
       "    }\n",
       "\n",
       "    .dataframe thead th {\n",
       "        text-align: right;\n",
       "    }\n",
       "</style>\n",
       "<table border=\"1\" class=\"dataframe\">\n",
       "  <thead>\n",
       "    <tr style=\"text-align: right;\">\n",
       "      <th></th>\n",
       "      <th>destination_city</th>\n",
       "      <th>origin_airport_departure</th>\n",
       "      <th>count</th>\n",
       "    </tr>\n",
       "  </thead>\n",
       "  <tbody>\n",
       "    <tr>\n",
       "      <th>0</th>\n",
       "      <td>New</td>\n",
       "      <td>Madrid</td>\n",
       "      <td>3031</td>\n",
       "    </tr>\n",
       "    <tr>\n",
       "      <th>1</th>\n",
       "      <td>Paris</td>\n",
       "      <td>Madrid</td>\n",
       "      <td>1382</td>\n",
       "    </tr>\n",
       "    <tr>\n",
       "      <th>2</th>\n",
       "      <td>Rome</td>\n",
       "      <td>Madrid</td>\n",
       "      <td>1327</td>\n",
       "    </tr>\n",
       "    <tr>\n",
       "      <th>3</th>\n",
       "      <td>Berlin</td>\n",
       "      <td>Madrid</td>\n",
       "      <td>1120</td>\n",
       "    </tr>\n",
       "    <tr>\n",
       "      <th>4</th>\n",
       "      <td>Madeira</td>\n",
       "      <td>Madrid</td>\n",
       "      <td>642</td>\n",
       "    </tr>\n",
       "    <tr>\n",
       "      <th>5</th>\n",
       "      <td>Phuket</td>\n",
       "      <td>Madrid</td>\n",
       "      <td>468</td>\n",
       "    </tr>\n",
       "    <tr>\n",
       "      <th>6</th>\n",
       "      <td>Havana</td>\n",
       "      <td>Madrid</td>\n",
       "      <td>174</td>\n",
       "    </tr>\n",
       "  </tbody>\n",
       "</table>\n",
       "</div>"
      ],
      "text/plain": [
       "  destination_city origin_airport_departure  count\n",
       "0              New                   Madrid   3031\n",
       "1            Paris                   Madrid   1382\n",
       "2             Rome                   Madrid   1327\n",
       "3           Berlin                   Madrid   1120\n",
       "4          Madeira                   Madrid    642\n",
       "5           Phuket                   Madrid    468\n",
       "6           Havana                   Madrid    174"
      ]
     },
     "execution_count": 20,
     "metadata": {},
     "output_type": "execute_result"
    }
   ],
   "source": [
    "flight_itinieraries[[\"destination_city\",\"origin_airport_departure\"]].value_counts().reset_index()"
   ]
  },
  {
   "cell_type": "code",
   "execution_count": 90,
   "metadata": {},
   "outputs": [
    {
     "data": {
      "text/html": [
       "<div>\n",
       "<style scoped>\n",
       "    .dataframe tbody tr th:only-of-type {\n",
       "        vertical-align: middle;\n",
       "    }\n",
       "\n",
       "    .dataframe tbody tr th {\n",
       "        vertical-align: top;\n",
       "    }\n",
       "\n",
       "    .dataframe thead th {\n",
       "        text-align: right;\n",
       "    }\n",
       "</style>\n",
       "<table border=\"1\" class=\"dataframe\">\n",
       "  <thead>\n",
       "    <tr style=\"text-align: right;\">\n",
       "      <th>destination_city</th>\n",
       "      <th>Berlin</th>\n",
       "      <th>Havana</th>\n",
       "      <th>Madeira</th>\n",
       "      <th>New</th>\n",
       "      <th>Paris</th>\n",
       "      <th>Phuket</th>\n",
       "      <th>Rome</th>\n",
       "    </tr>\n",
       "    <tr>\n",
       "      <th>week</th>\n",
       "      <th></th>\n",
       "      <th></th>\n",
       "      <th></th>\n",
       "      <th></th>\n",
       "      <th></th>\n",
       "      <th></th>\n",
       "      <th></th>\n",
       "    </tr>\n",
       "  </thead>\n",
       "  <tbody>\n",
       "    <tr>\n",
       "      <th>1</th>\n",
       "      <td>394</td>\n",
       "      <td>66</td>\n",
       "      <td>315</td>\n",
       "      <td>1001</td>\n",
       "      <td>407</td>\n",
       "      <td>156</td>\n",
       "      <td>654</td>\n",
       "    </tr>\n",
       "    <tr>\n",
       "      <th>2</th>\n",
       "      <td>392</td>\n",
       "      <td>50</td>\n",
       "      <td>147</td>\n",
       "      <td>1108</td>\n",
       "      <td>461</td>\n",
       "      <td>140</td>\n",
       "      <td>250</td>\n",
       "    </tr>\n",
       "    <tr>\n",
       "      <th>3</th>\n",
       "      <td>334</td>\n",
       "      <td>58</td>\n",
       "      <td>180</td>\n",
       "      <td>922</td>\n",
       "      <td>514</td>\n",
       "      <td>172</td>\n",
       "      <td>423</td>\n",
       "    </tr>\n",
       "  </tbody>\n",
       "</table>\n",
       "</div>"
      ],
      "text/plain": [
       "destination_city  Berlin  Havana  Madeira   New  Paris  Phuket  Rome\n",
       "week                                                                \n",
       "1                    394      66      315  1001    407     156   654\n",
       "2                    392      50      147  1108    461     140   250\n",
       "3                    334      58      180   922    514     172   423"
      ]
     },
     "execution_count": 90,
     "metadata": {},
     "output_type": "execute_result"
    }
   ],
   "source": [
    "flight_itinieraries.pivot_table(\n",
    "    index='destination_city',\n",
    "    columns='week',\n",
    "    values='price', \n",
    "    aggfunc='count',\n",
    "    fill_value=0 \n",
    ").T"
   ]
  },
  {
   "cell_type": "markdown",
   "metadata": {},
   "source": [
    "Average flight duration:"
   ]
  },
  {
   "cell_type": "code",
   "execution_count": 83,
   "metadata": {},
   "outputs": [
    {
     "data": {
      "text/html": [
       "<div>\n",
       "<style scoped>\n",
       "    .dataframe tbody tr th:only-of-type {\n",
       "        vertical-align: middle;\n",
       "    }\n",
       "\n",
       "    .dataframe tbody tr th {\n",
       "        vertical-align: top;\n",
       "    }\n",
       "\n",
       "    .dataframe thead th {\n",
       "        text-align: right;\n",
       "    }\n",
       "</style>\n",
       "<table border=\"1\" class=\"dataframe\">\n",
       "  <thead>\n",
       "    <tr style=\"text-align: right;\">\n",
       "      <th></th>\n",
       "      <th>duration_departure</th>\n",
       "    </tr>\n",
       "    <tr>\n",
       "      <th>destination_city</th>\n",
       "      <th></th>\n",
       "    </tr>\n",
       "  </thead>\n",
       "  <tbody>\n",
       "    <tr>\n",
       "      <th>Rome</th>\n",
       "      <td>3.826174</td>\n",
       "    </tr>\n",
       "    <tr>\n",
       "      <th>Paris</th>\n",
       "      <td>4.253437</td>\n",
       "    </tr>\n",
       "    <tr>\n",
       "      <th>Berlin</th>\n",
       "      <td>5.255804</td>\n",
       "    </tr>\n",
       "    <tr>\n",
       "      <th>Madeira</th>\n",
       "      <td>12.420950</td>\n",
       "    </tr>\n",
       "    <tr>\n",
       "      <th>New</th>\n",
       "      <td>13.121621</td>\n",
       "    </tr>\n",
       "    <tr>\n",
       "      <th>Phuket</th>\n",
       "      <td>20.777244</td>\n",
       "    </tr>\n",
       "    <tr>\n",
       "      <th>Havana</th>\n",
       "      <td>21.866667</td>\n",
       "    </tr>\n",
       "  </tbody>\n",
       "</table>\n",
       "</div>"
      ],
      "text/plain": [
       "                  duration_departure\n",
       "destination_city                    \n",
       "Rome                        3.826174\n",
       "Paris                       4.253437\n",
       "Berlin                      5.255804\n",
       "Madeira                    12.420950\n",
       "New                        13.121621\n",
       "Phuket                     20.777244\n",
       "Havana                     21.866667"
      ]
     },
     "execution_count": 83,
     "metadata": {},
     "output_type": "execute_result"
    }
   ],
   "source": [
    "flight_itinieraries.groupby(\"destination_city\")[[\"duration_departure\"]].mean().sort_values(by=\"duration_departure\")/60"
   ]
  },
  {
   "cell_type": "markdown",
   "metadata": {},
   "source": [
    "Average flight cost:"
   ]
  },
  {
   "cell_type": "code",
   "execution_count": 82,
   "metadata": {},
   "outputs": [
    {
     "data": {
      "text/html": [
       "<div>\n",
       "<style scoped>\n",
       "    .dataframe tbody tr th:only-of-type {\n",
       "        vertical-align: middle;\n",
       "    }\n",
       "\n",
       "    .dataframe tbody tr th {\n",
       "        vertical-align: top;\n",
       "    }\n",
       "\n",
       "    .dataframe thead th {\n",
       "        text-align: right;\n",
       "    }\n",
       "</style>\n",
       "<table border=\"1\" class=\"dataframe\">\n",
       "  <thead>\n",
       "    <tr style=\"text-align: right;\">\n",
       "      <th></th>\n",
       "      <th>price</th>\n",
       "    </tr>\n",
       "    <tr>\n",
       "      <th>destination_city</th>\n",
       "      <th></th>\n",
       "    </tr>\n",
       "  </thead>\n",
       "  <tbody>\n",
       "    <tr>\n",
       "      <th>Rome</th>\n",
       "      <td>306.046722</td>\n",
       "    </tr>\n",
       "    <tr>\n",
       "      <th>Berlin</th>\n",
       "      <td>344.746429</td>\n",
       "    </tr>\n",
       "    <tr>\n",
       "      <th>Paris</th>\n",
       "      <td>370.965268</td>\n",
       "    </tr>\n",
       "    <tr>\n",
       "      <th>Madeira</th>\n",
       "      <td>572.485981</td>\n",
       "    </tr>\n",
       "    <tr>\n",
       "      <th>New</th>\n",
       "      <td>687.348400</td>\n",
       "    </tr>\n",
       "    <tr>\n",
       "      <th>Havana</th>\n",
       "      <td>1379.528736</td>\n",
       "    </tr>\n",
       "    <tr>\n",
       "      <th>Phuket</th>\n",
       "      <td>1842.010684</td>\n",
       "    </tr>\n",
       "  </tbody>\n",
       "</table>\n",
       "</div>"
      ],
      "text/plain": [
       "                        price\n",
       "destination_city             \n",
       "Rome               306.046722\n",
       "Berlin             344.746429\n",
       "Paris              370.965268\n",
       "Madeira            572.485981\n",
       "New                687.348400\n",
       "Havana            1379.528736\n",
       "Phuket            1842.010684"
      ]
     },
     "execution_count": 82,
     "metadata": {},
     "output_type": "execute_result"
    }
   ],
   "source": [
    "flight_itinieraries.groupby(\"destination_city\")[[\"price\"]].mean().sort_values(by=\"price\")"
   ]
  },
  {
   "cell_type": "markdown",
   "metadata": {},
   "source": [
    "Cheapest flight:"
   ]
  },
  {
   "cell_type": "code",
   "execution_count": 76,
   "metadata": {},
   "outputs": [
    {
     "name": "stderr",
     "output_type": "stream",
     "text": [
      "C:\\Users\\Miguel\\AppData\\Local\\Temp\\ipykernel_6380\\2098632902.py:3: DeprecationWarning: DataFrameGroupBy.apply operated on the grouping columns. This behavior is deprecated, and in a future version of pandas the grouping columns will be excluded from the operation. Either pass `include_groups=False` to exclude the groupings or explicitly select the grouping columns after groupby to silence this warning.\n",
      "  .apply(lambda x: pd.DataFrame({\n"
     ]
    },
    {
     "data": {
      "text/html": [
       "<div>\n",
       "<style scoped>\n",
       "    .dataframe tbody tr th:only-of-type {\n",
       "        vertical-align: middle;\n",
       "    }\n",
       "\n",
       "    .dataframe tbody tr th {\n",
       "        vertical-align: top;\n",
       "    }\n",
       "\n",
       "    .dataframe thead th {\n",
       "        text-align: right;\n",
       "    }\n",
       "</style>\n",
       "<table border=\"1\" class=\"dataframe\">\n",
       "  <thead>\n",
       "    <tr style=\"text-align: right;\">\n",
       "      <th></th>\n",
       "      <th>smallest_price_EUR</th>\n",
       "      <th>duration_hours</th>\n",
       "      <th>stops</th>\n",
       "    </tr>\n",
       "    <tr>\n",
       "      <th>destination_city</th>\n",
       "      <th></th>\n",
       "      <th></th>\n",
       "      <th></th>\n",
       "    </tr>\n",
       "  </thead>\n",
       "  <tbody>\n",
       "    <tr>\n",
       "      <th>Paris</th>\n",
       "      <td>71.0</td>\n",
       "      <td>2.166667</td>\n",
       "      <td>0.0</td>\n",
       "    </tr>\n",
       "    <tr>\n",
       "      <th>Rome</th>\n",
       "      <td>84.0</td>\n",
       "      <td>2.416667</td>\n",
       "      <td>0.0</td>\n",
       "    </tr>\n",
       "    <tr>\n",
       "      <th>Madeira</th>\n",
       "      <td>120.0</td>\n",
       "      <td>8.833333</td>\n",
       "      <td>1.0</td>\n",
       "    </tr>\n",
       "    <tr>\n",
       "      <th>Berlin</th>\n",
       "      <td>131.0</td>\n",
       "      <td>3.083333</td>\n",
       "      <td>0.0</td>\n",
       "    </tr>\n",
       "    <tr>\n",
       "      <th>New</th>\n",
       "      <td>382.0</td>\n",
       "      <td>13.250000</td>\n",
       "      <td>1.0</td>\n",
       "    </tr>\n",
       "    <tr>\n",
       "      <th>Phuket</th>\n",
       "      <td>610.0</td>\n",
       "      <td>22.166667</td>\n",
       "      <td>1.0</td>\n",
       "    </tr>\n",
       "    <tr>\n",
       "      <th>Havana</th>\n",
       "      <td>673.0</td>\n",
       "      <td>16.666667</td>\n",
       "      <td>2.0</td>\n",
       "    </tr>\n",
       "  </tbody>\n",
       "</table>\n",
       "</div>"
      ],
      "text/plain": [
       "                  smallest_price_EUR  duration_hours  stops\n",
       "destination_city                                           \n",
       "Paris                           71.0        2.166667    0.0\n",
       "Rome                            84.0        2.416667    0.0\n",
       "Madeira                        120.0        8.833333    1.0\n",
       "Berlin                         131.0        3.083333    0.0\n",
       "New                            382.0       13.250000    1.0\n",
       "Phuket                         610.0       22.166667    1.0\n",
       "Havana                         673.0       16.666667    2.0"
      ]
     },
     "execution_count": 76,
     "metadata": {},
     "output_type": "execute_result"
    }
   ],
   "source": [
    "cheapest_flight_durations = (\n",
    "    flight_itinieraries.groupby('destination_city')\n",
    "        .apply(lambda x: pd.DataFrame({\n",
    "        'smallest_price_EUR': [x.nsmallest(1, 'price')['price'].mean()],\n",
    "        'duration_hours': [x.nsmallest(1, 'price')['duration_departure'].mean()/60],\n",
    "        'stops': [x.nsmallest(1, 'price')['stops_departure'].mean()]\n",
    "    }))\n",
    "    .reset_index(level=1,drop=True)\n",
    "    .sort_values(by=\"smallest_price_EUR\",ascending=True)\n",
    ")\n",
    "\n",
    "cheapest_flight_durations"
   ]
  },
  {
   "cell_type": "markdown",
   "metadata": {},
   "source": [
    "Average flight cost by top_10 cheapest:"
   ]
  },
  {
   "cell_type": "code",
   "execution_count": 57,
   "metadata": {},
   "outputs": [
    {
     "name": "stderr",
     "output_type": "stream",
     "text": [
      "C:\\Users\\Miguel\\AppData\\Local\\Temp\\ipykernel_6380\\3229344513.py:3: DeprecationWarning: DataFrameGroupBy.apply operated on the grouping columns. This behavior is deprecated, and in a future version of pandas the grouping columns will be excluded from the operation. Either pass `include_groups=False` to exclude the groupings or explicitly select the grouping columns after groupby to silence this warning.\n",
      "  .apply(lambda x: pd.DataFrame({\n"
     ]
    },
    {
     "data": {
      "text/html": [
       "<div>\n",
       "<style scoped>\n",
       "    .dataframe tbody tr th:only-of-type {\n",
       "        vertical-align: middle;\n",
       "    }\n",
       "\n",
       "    .dataframe tbody tr th {\n",
       "        vertical-align: top;\n",
       "    }\n",
       "\n",
       "    .dataframe thead th {\n",
       "        text-align: right;\n",
       "    }\n",
       "</style>\n",
       "<table border=\"1\" class=\"dataframe\">\n",
       "  <thead>\n",
       "    <tr style=\"text-align: right;\">\n",
       "      <th></th>\n",
       "      <th>mean_smallest_price_EUR</th>\n",
       "      <th>mean_smallest_duration_hours</th>\n",
       "    </tr>\n",
       "    <tr>\n",
       "      <th>destination_city</th>\n",
       "      <th></th>\n",
       "      <th></th>\n",
       "    </tr>\n",
       "  </thead>\n",
       "  <tbody>\n",
       "    <tr>\n",
       "      <th>Rome</th>\n",
       "      <td>91.6</td>\n",
       "      <td>2.458333</td>\n",
       "    </tr>\n",
       "    <tr>\n",
       "      <th>Paris</th>\n",
       "      <td>103.3</td>\n",
       "      <td>2.175000</td>\n",
       "    </tr>\n",
       "    <tr>\n",
       "      <th>Berlin</th>\n",
       "      <td>148.2</td>\n",
       "      <td>4.791667</td>\n",
       "    </tr>\n",
       "    <tr>\n",
       "      <th>Madeira</th>\n",
       "      <td>168.6</td>\n",
       "      <td>10.858333</td>\n",
       "    </tr>\n",
       "    <tr>\n",
       "      <th>New</th>\n",
       "      <td>386.7</td>\n",
       "      <td>18.050000</td>\n",
       "    </tr>\n",
       "    <tr>\n",
       "      <th>Havana</th>\n",
       "      <td>741.2</td>\n",
       "      <td>15.875000</td>\n",
       "    </tr>\n",
       "    <tr>\n",
       "      <th>Phuket</th>\n",
       "      <td>778.4</td>\n",
       "      <td>23.366667</td>\n",
       "    </tr>\n",
       "  </tbody>\n",
       "</table>\n",
       "</div>"
      ],
      "text/plain": [
       "                  mean_smallest_price_EUR  mean_smallest_duration_hours\n",
       "destination_city                                                       \n",
       "Rome                                 91.6                      2.458333\n",
       "Paris                               103.3                      2.175000\n",
       "Berlin                              148.2                      4.791667\n",
       "Madeira                             168.6                     10.858333\n",
       "New                                 386.7                     18.050000\n",
       "Havana                              741.2                     15.875000\n",
       "Phuket                              778.4                     23.366667"
      ]
     },
     "execution_count": 57,
     "metadata": {},
     "output_type": "execute_result"
    }
   ],
   "source": [
    "mean_smallest_prices_durations = (\n",
    "    flight_itinieraries.groupby(\"destination_city\")\n",
    "    .apply(lambda x: pd.DataFrame({\n",
    "        'mean_smallest_price_EUR': [x.nsmallest(10, 'price')['price'].mean()],\n",
    "        'mean_smallest_duration_hours': [x.nsmallest(10, 'price')['duration_departure'].mean()/60]\n",
    "    }))\n",
    "    .reset_index(level=1,drop=True)\n",
    "    .sort_values(by=\"mean_smallest_price_EUR\")\n",
    ")\n",
    "mean_smallest_prices_durations"
   ]
  },
  {
   "cell_type": "markdown",
   "metadata": {},
   "source": [
    "Average flight cost by top_10 scores:"
   ]
  },
  {
   "cell_type": "code",
   "execution_count": 81,
   "metadata": {},
   "outputs": [
    {
     "name": "stderr",
     "output_type": "stream",
     "text": [
      "C:\\Users\\Miguel\\AppData\\Local\\Temp\\ipykernel_6380\\2042801280.py:3: DeprecationWarning: DataFrameGroupBy.apply operated on the grouping columns. This behavior is deprecated, and in a future version of pandas the grouping columns will be excluded from the operation. Either pass `include_groups=False` to exclude the groupings or explicitly select the grouping columns after groupby to silence this warning.\n",
      "  .apply(lambda x: pd.DataFrame({\n"
     ]
    },
    {
     "data": {
      "text/html": [
       "<div>\n",
       "<style scoped>\n",
       "    .dataframe tbody tr th:only-of-type {\n",
       "        vertical-align: middle;\n",
       "    }\n",
       "\n",
       "    .dataframe tbody tr th {\n",
       "        vertical-align: top;\n",
       "    }\n",
       "\n",
       "    .dataframe thead th {\n",
       "        text-align: right;\n",
       "    }\n",
       "</style>\n",
       "<table border=\"1\" class=\"dataframe\">\n",
       "  <thead>\n",
       "    <tr style=\"text-align: right;\">\n",
       "      <th></th>\n",
       "      <th>mean_price_EUR</th>\n",
       "      <th>mean_duration_hours</th>\n",
       "      <th>mean_stops</th>\n",
       "      <th>mean_self_transfer</th>\n",
       "    </tr>\n",
       "    <tr>\n",
       "      <th>destination_city</th>\n",
       "      <th></th>\n",
       "      <th></th>\n",
       "      <th></th>\n",
       "      <th></th>\n",
       "    </tr>\n",
       "  </thead>\n",
       "  <tbody>\n",
       "    <tr>\n",
       "      <th>Rome</th>\n",
       "      <td>112.8</td>\n",
       "      <td>2.433333</td>\n",
       "      <td>0.0</td>\n",
       "      <td>0.0</td>\n",
       "    </tr>\n",
       "    <tr>\n",
       "      <th>Paris</th>\n",
       "      <td>185.6</td>\n",
       "      <td>2.158333</td>\n",
       "      <td>0.0</td>\n",
       "      <td>0.0</td>\n",
       "    </tr>\n",
       "    <tr>\n",
       "      <th>Berlin</th>\n",
       "      <td>248.8</td>\n",
       "      <td>3.400000</td>\n",
       "      <td>0.2</td>\n",
       "      <td>0.1</td>\n",
       "    </tr>\n",
       "    <tr>\n",
       "      <th>Madeira</th>\n",
       "      <td>262.0</td>\n",
       "      <td>5.450000</td>\n",
       "      <td>1.0</td>\n",
       "      <td>0.3</td>\n",
       "    </tr>\n",
       "    <tr>\n",
       "      <th>New</th>\n",
       "      <td>494.8</td>\n",
       "      <td>8.691667</td>\n",
       "      <td>0.0</td>\n",
       "      <td>0.0</td>\n",
       "    </tr>\n",
       "    <tr>\n",
       "      <th>Phuket</th>\n",
       "      <td>943.1</td>\n",
       "      <td>20.541667</td>\n",
       "      <td>1.1</td>\n",
       "      <td>0.0</td>\n",
       "    </tr>\n",
       "    <tr>\n",
       "      <th>Havana</th>\n",
       "      <td>1016.5</td>\n",
       "      <td>15.300000</td>\n",
       "      <td>1.0</td>\n",
       "      <td>0.0</td>\n",
       "    </tr>\n",
       "  </tbody>\n",
       "</table>\n",
       "</div>"
      ],
      "text/plain": [
       "                  mean_price_EUR  mean_duration_hours  mean_stops  \\\n",
       "destination_city                                                    \n",
       "Rome                       112.8             2.433333         0.0   \n",
       "Paris                      185.6             2.158333         0.0   \n",
       "Berlin                     248.8             3.400000         0.2   \n",
       "Madeira                    262.0             5.450000         1.0   \n",
       "New                        494.8             8.691667         0.0   \n",
       "Phuket                     943.1            20.541667         1.1   \n",
       "Havana                    1016.5            15.300000         1.0   \n",
       "\n",
       "                  mean_self_transfer  \n",
       "destination_city                      \n",
       "Rome                             0.0  \n",
       "Paris                            0.0  \n",
       "Berlin                           0.1  \n",
       "Madeira                          0.3  \n",
       "New                              0.0  \n",
       "Phuket                           0.0  \n",
       "Havana                           0.0  "
      ]
     },
     "execution_count": 81,
     "metadata": {},
     "output_type": "execute_result"
    }
   ],
   "source": [
    "mean_largest_score_prices_durations = (\n",
    "    flight_itinieraries.groupby(\"destination_city\")\n",
    "    .apply(lambda x: pd.DataFrame({\n",
    "        'mean_price_EUR': [x.nlargest(10, 'score')['price'].mean()],\n",
    "        'mean_duration_hours': [x.nlargest(10, 'score')['duration_departure'].mean()/60],\n",
    "        'mean_stops': [x.nlargest(10, 'score')['stops_departure'].mean()],\n",
    "        \"mean_self_transfer\": [x.nlargest(10, 'score')['self_transfer'].mean()],\n",
    "    }))\n",
    "    .reset_index(level=1,drop=True)\n",
    "    .sort_values(by=\"mean_price_EUR\")\n",
    ")\n",
    "mean_largest_score_prices_durations"
   ]
  },
  {
   "cell_type": "markdown",
   "metadata": {},
   "source": [
    "Average price per week, for top 10 scores per destination"
   ]
  },
  {
   "cell_type": "code",
   "execution_count": 91,
   "metadata": {},
   "outputs": [
    {
     "name": "stderr",
     "output_type": "stream",
     "text": [
      "C:\\Users\\Miguel\\AppData\\Local\\Temp\\ipykernel_6380\\1210879034.py:3: DeprecationWarning: DataFrameGroupBy.apply operated on the grouping columns. This behavior is deprecated, and in a future version of pandas the grouping columns will be excluded from the operation. Either pass `include_groups=False` to exclude the groupings or explicitly select the grouping columns after groupby to silence this warning.\n",
      "  .apply(lambda x: x.nlargest(10, 'score')['price'].mean())\n"
     ]
    },
    {
     "data": {
      "text/html": [
       "<div>\n",
       "<style scoped>\n",
       "    .dataframe tbody tr th:only-of-type {\n",
       "        vertical-align: middle;\n",
       "    }\n",
       "\n",
       "    .dataframe tbody tr th {\n",
       "        vertical-align: top;\n",
       "    }\n",
       "\n",
       "    .dataframe thead th {\n",
       "        text-align: right;\n",
       "    }\n",
       "</style>\n",
       "<table border=\"1\" class=\"dataframe\">\n",
       "  <thead>\n",
       "    <tr style=\"text-align: right;\">\n",
       "      <th></th>\n",
       "      <th>week</th>\n",
       "      <th>average_price_top_10_scores</th>\n",
       "    </tr>\n",
       "  </thead>\n",
       "  <tbody>\n",
       "    <tr>\n",
       "      <th>0</th>\n",
       "      <td>1</td>\n",
       "      <td>497.0</td>\n",
       "    </tr>\n",
       "    <tr>\n",
       "      <th>1</th>\n",
       "      <td>2</td>\n",
       "      <td>372.8</td>\n",
       "    </tr>\n",
       "    <tr>\n",
       "      <th>2</th>\n",
       "      <td>3</td>\n",
       "      <td>277.8</td>\n",
       "    </tr>\n",
       "  </tbody>\n",
       "</table>\n",
       "</div>"
      ],
      "text/plain": [
       "   week  average_price_top_10_scores\n",
       "0     1                        497.0\n",
       "1     2                        372.8\n",
       "2     3                        277.8"
      ]
     },
     "execution_count": 91,
     "metadata": {},
     "output_type": "execute_result"
    }
   ],
   "source": [
    "average_price_top_10_scores_per_week = (\n",
    "    flight_itinieraries.groupby('week')\n",
    "    .apply(lambda x: x.nlargest(10, 'score')['price'].mean())\n",
    "    .reset_index(name='average_price_top_10_scores')\n",
    ")\n",
    "average_price_top_10_scores_per_week"
   ]
  },
  {
   "cell_type": "code",
   "execution_count": 93,
   "metadata": {},
   "outputs": [
    {
     "name": "stderr",
     "output_type": "stream",
     "text": [
      "C:\\Users\\Miguel\\AppData\\Local\\Temp\\ipykernel_6380\\2056908848.py:3: DeprecationWarning: DataFrameGroupBy.apply operated on the grouping columns. This behavior is deprecated, and in a future version of pandas the grouping columns will be excluded from the operation. Either pass `include_groups=False` to exclude the groupings or explicitly select the grouping columns after groupby to silence this warning.\n",
      "  .apply(lambda x: x.nlargest(10, 'score')['price'].mean())\n"
     ]
    },
    {
     "data": {
      "text/html": [
       "<div>\n",
       "<style scoped>\n",
       "    .dataframe tbody tr th:only-of-type {\n",
       "        vertical-align: middle;\n",
       "    }\n",
       "\n",
       "    .dataframe tbody tr th {\n",
       "        vertical-align: top;\n",
       "    }\n",
       "\n",
       "    .dataframe thead th {\n",
       "        text-align: right;\n",
       "    }\n",
       "</style>\n",
       "<table border=\"1\" class=\"dataframe\">\n",
       "  <thead>\n",
       "    <tr style=\"text-align: right;\">\n",
       "      <th>week</th>\n",
       "      <th>1</th>\n",
       "      <th>2</th>\n",
       "      <th>3</th>\n",
       "    </tr>\n",
       "    <tr>\n",
       "      <th>destination_city</th>\n",
       "      <th></th>\n",
       "      <th></th>\n",
       "      <th></th>\n",
       "    </tr>\n",
       "  </thead>\n",
       "  <tbody>\n",
       "    <tr>\n",
       "      <th>Berlin</th>\n",
       "      <td>298.6</td>\n",
       "      <td>238.8</td>\n",
       "      <td>212.4</td>\n",
       "    </tr>\n",
       "    <tr>\n",
       "      <th>Havana</th>\n",
       "      <td>1179.1</td>\n",
       "      <td>1039.4</td>\n",
       "      <td>751.8</td>\n",
       "    </tr>\n",
       "    <tr>\n",
       "      <th>Madeira</th>\n",
       "      <td>336.8</td>\n",
       "      <td>246.1</td>\n",
       "      <td>217.4</td>\n",
       "    </tr>\n",
       "    <tr>\n",
       "      <th>New</th>\n",
       "      <td>509.0</td>\n",
       "      <td>504.9</td>\n",
       "      <td>495.6</td>\n",
       "    </tr>\n",
       "    <tr>\n",
       "      <th>Paris</th>\n",
       "      <td>263.3</td>\n",
       "      <td>249.5</td>\n",
       "      <td>110.7</td>\n",
       "    </tr>\n",
       "    <tr>\n",
       "      <th>Phuket</th>\n",
       "      <td>1057.0</td>\n",
       "      <td>1072.3</td>\n",
       "      <td>1069.6</td>\n",
       "    </tr>\n",
       "    <tr>\n",
       "      <th>Rome</th>\n",
       "      <td>167.2</td>\n",
       "      <td>119.4</td>\n",
       "      <td>96.6</td>\n",
       "    </tr>\n",
       "  </tbody>\n",
       "</table>\n",
       "</div>"
      ],
      "text/plain": [
       "week                   1       2       3\n",
       "destination_city                        \n",
       "Berlin             298.6   238.8   212.4\n",
       "Havana            1179.1  1039.4   751.8\n",
       "Madeira            336.8   246.1   217.4\n",
       "New                509.0   504.9   495.6\n",
       "Paris              263.3   249.5   110.7\n",
       "Phuket            1057.0  1072.3  1069.6\n",
       "Rome               167.2   119.4    96.6"
      ]
     },
     "execution_count": 93,
     "metadata": {},
     "output_type": "execute_result"
    }
   ],
   "source": [
    "average_price_top_10_scores_per_dest_week = (\n",
    "    flight_itinieraries.groupby(['week', 'destination_city'])\n",
    "    .apply(lambda x: x.nlargest(10, 'score')['price'].mean())\n",
    "    .reset_index(name='average_price_top_10_scores')\n",
    ")\n",
    "average_price_top_10_scores_per_dest_week.pivot(\n",
    "    index='destination_city', \n",
    "    columns='week', \n",
    "    values='average_price_top_10_scores'\n",
    ").fillna(0) "
   ]
  },
  {
   "cell_type": "markdown",
   "metadata": {},
   "source": [
    "### 2.2 Accommodations"
   ]
  },
  {
   "cell_type": "code",
   "execution_count": 100,
   "metadata": {},
   "outputs": [
    {
     "data": {
      "text/plain": [
       "Index(['name', 'url', 'price_currency', 'total_price_amount',\n",
       "       'distance_city_center_km', 'score', 'n_comments', 'close_to_metro',\n",
       "       'sustainability_cert', 'room_type', 'double_bed', 'single_bed',\n",
       "       'free_cancellation', 'breakfast_included', 'pay_at_hotel',\n",
       "       'location_score', 'free_taxi', 'week', 'type', 'destination'],\n",
       "      dtype='object')"
      ]
     },
     "execution_count": 100,
     "metadata": {},
     "output_type": "execute_result"
    }
   ],
   "source": [
    "accommodations_df.columns"
   ]
  },
  {
   "cell_type": "code",
   "execution_count": 110,
   "metadata": {},
   "outputs": [],
   "source": [
    "accommodations_df[\"sustainability_cert_int\"] = accommodations_df[\"sustainability_cert\"].str.replace(\"Yes\",\"1\").str.replace(\"No\",\"0\").astype(int)"
   ]
  },
  {
   "cell_type": "markdown",
   "metadata": {},
   "source": [
    "Score by top 10 cheapest acommodations per key destination"
   ]
  },
  {
   "cell_type": "code",
   "execution_count": 122,
   "metadata": {},
   "outputs": [
    {
     "name": "stderr",
     "output_type": "stream",
     "text": [
      "C:\\Users\\Miguel\\AppData\\Local\\Temp\\ipykernel_6380\\1519910352.py:3: DeprecationWarning: DataFrameGroupBy.apply operated on the grouping columns. This behavior is deprecated, and in a future version of pandas the grouping columns will be excluded from the operation. Either pass `include_groups=False` to exclude the groupings or explicitly select the grouping columns after groupby to silence this warning.\n",
      "  .apply(lambda x: pd.DataFrame({\n",
      "C:\\Users\\Miguel\\AppData\\Local\\Temp\\ipykernel_6380\\1519910352.py:23: UserWarning: set_ticklabels() should only be used with a fixed number of ticks, i.e. after set_ticks() or using a FixedLocator.\n",
      "  ax1.set_xticklabels(mean_smallest_prices.index, rotation=45, ha='right')\n"
     ]
    },
    {
     "data": {
      "image/png": "[encoded data removed]",
      "text/plain": [
       "<Figure size 1000x600 with 2 Axes>"
      ]
     },
     "metadata": {},
     "output_type": "display_data"
    }
   ],
   "source": [
    "mean_smallest_prices = (\n",
    "    accommodations_df.groupby(\"destination\")\n",
    "    .apply(lambda x: pd.DataFrame({\n",
    "        'mean_price_EUR': [x.nsmallest(10, 'total_price_amount')['total_price_amount'].mean()],\n",
    "        'mean_score': [x.nsmallest(10, 'total_price_amount')['score'].mean()],\n",
    "        'mean_centre_distance': [x.nsmallest(10, 'total_price_amount')['distance_city_center_km'].mean()]\n",
    "    }))\n",
    "    .reset_index(level=1,drop=True)\n",
    "    .sort_values(by=\"mean_price_EUR\")\n",
    ")\n",
    "\n",
    "fig, ax1 = plt.subplots(figsize=(10, 6))\n",
    "\n",
    "sns.barplot(x='destination', y='mean_price_EUR', data=mean_smallest_prices, ax=ax1, color='b')\n",
    "ax1.set_ylabel('Mean Price (EUR)', color='b')\n",
    "ax1.tick_params(axis='y', labelcolor='b')\n",
    "\n",
    "ax2 = ax1.twinx()\n",
    "sns.lineplot(x='destination', y='mean_score', data=mean_smallest_prices, ax=ax2, color='y', marker=\"o\")\n",
    "ax2.set_ylabel('Mean Score', color='y')\n",
    "ax2.tick_params(axis='y', labelcolor='y')\n",
    "\n",
    "ax1.set_xticklabels(mean_smallest_prices.index, rotation=45, ha='right')\n",
    "\n",
    "plt.title('Mean price vs mean score for 10 cheapest accommodations per Destination')\n",
    "plt.tight_layout()\n",
    "\n",
    "plt.show()\n"
   ]
  },
  {
   "cell_type": "markdown",
   "metadata": {},
   "source": [
    "Weekly evolution of accommodation price per destination"
   ]
  },
  {
   "cell_type": "code",
   "execution_count": 108,
   "metadata": {},
   "outputs": [
    {
     "name": "stderr",
     "output_type": "stream",
     "text": [
      "C:\\Users\\Miguel\\AppData\\Local\\Temp\\ipykernel_6380\\4001283234.py:3: DeprecationWarning: DataFrameGroupBy.apply operated on the grouping columns. This behavior is deprecated, and in a future version of pandas the grouping columns will be excluded from the operation. Either pass `include_groups=False` to exclude the groupings or explicitly select the grouping columns after groupby to silence this warning.\n",
      "  .apply(lambda x: x.nlargest(10, 'score')['total_price_amount'].mean())\n"
     ]
    },
    {
     "data": {
      "text/html": [
       "<div>\n",
       "<style scoped>\n",
       "    .dataframe tbody tr th:only-of-type {\n",
       "        vertical-align: middle;\n",
       "    }\n",
       "\n",
       "    .dataframe tbody tr th {\n",
       "        vertical-align: top;\n",
       "    }\n",
       "\n",
       "    .dataframe thead th {\n",
       "        text-align: right;\n",
       "    }\n",
       "</style>\n",
       "<table border=\"1\" class=\"dataframe\">\n",
       "  <thead>\n",
       "    <tr style=\"text-align: right;\">\n",
       "      <th>week</th>\n",
       "      <th>1</th>\n",
       "      <th>2</th>\n",
       "      <th>3</th>\n",
       "    </tr>\n",
       "    <tr>\n",
       "      <th>destination</th>\n",
       "      <th></th>\n",
       "      <th></th>\n",
       "      <th></th>\n",
       "    </tr>\n",
       "  </thead>\n",
       "  <tbody>\n",
       "    <tr>\n",
       "      <th>Berlin</th>\n",
       "      <td>1191.0</td>\n",
       "      <td>1160.4</td>\n",
       "      <td>1160.2</td>\n",
       "    </tr>\n",
       "    <tr>\n",
       "      <th>Havana</th>\n",
       "      <td>1176.7</td>\n",
       "      <td>1189.5</td>\n",
       "      <td>1142.2</td>\n",
       "    </tr>\n",
       "    <tr>\n",
       "      <th>Madeira</th>\n",
       "      <td>1017.3</td>\n",
       "      <td>1045.9</td>\n",
       "      <td>1046.2</td>\n",
       "    </tr>\n",
       "    <tr>\n",
       "      <th>New York</th>\n",
       "      <td>0.0</td>\n",
       "      <td>0.0</td>\n",
       "      <td>1384.0</td>\n",
       "    </tr>\n",
       "    <tr>\n",
       "      <th>Paris</th>\n",
       "      <td>1161.9</td>\n",
       "      <td>1112.0</td>\n",
       "      <td>1246.6</td>\n",
       "    </tr>\n",
       "    <tr>\n",
       "      <th>Phuket</th>\n",
       "      <td>752.1</td>\n",
       "      <td>680.7</td>\n",
       "      <td>760.6</td>\n",
       "    </tr>\n",
       "    <tr>\n",
       "      <th>Rome</th>\n",
       "      <td>1161.1</td>\n",
       "      <td>1168.2</td>\n",
       "      <td>1204.5</td>\n",
       "    </tr>\n",
       "  </tbody>\n",
       "</table>\n",
       "</div>"
      ],
      "text/plain": [
       "week              1       2       3\n",
       "destination                        \n",
       "Berlin       1191.0  1160.4  1160.2\n",
       "Havana       1176.7  1189.5  1142.2\n",
       "Madeira      1017.3  1045.9  1046.2\n",
       "New York        0.0     0.0  1384.0\n",
       "Paris        1161.9  1112.0  1246.6\n",
       "Phuket        752.1   680.7   760.6\n",
       "Rome         1161.1  1168.2  1204.5"
      ]
     },
     "execution_count": 108,
     "metadata": {},
     "output_type": "execute_result"
    }
   ],
   "source": [
    "average_price_top_10_scores_per_dest_week = (\n",
    "    accommodations_df.groupby(['week', 'destination'])\n",
    "    .apply(lambda x: x.nlargest(10, 'score')['total_price_amount'].mean())\n",
    "    .reset_index(name='average_price_top_10_scores')\n",
    ")\n",
    "average_price_top_10_scores_per_dest_week.pivot(\n",
    "    index='destination', \n",
    "    columns='week', \n",
    "    values='average_price_top_10_scores'\n",
    ").fillna(0) "
   ]
  },
  {
   "cell_type": "markdown",
   "metadata": {},
   "source": [
    "Sustainability certification % by destination"
   ]
  },
  {
   "cell_type": "code",
   "execution_count": 112,
   "metadata": {},
   "outputs": [
    {
     "data": {
      "text/html": [
       "<div>\n",
       "<style scoped>\n",
       "    .dataframe tbody tr th:only-of-type {\n",
       "        vertical-align: middle;\n",
       "    }\n",
       "\n",
       "    .dataframe tbody tr th {\n",
       "        vertical-align: top;\n",
       "    }\n",
       "\n",
       "    .dataframe thead th {\n",
       "        text-align: right;\n",
       "    }\n",
       "</style>\n",
       "<table border=\"1\" class=\"dataframe\">\n",
       "  <thead>\n",
       "    <tr style=\"text-align: right;\">\n",
       "      <th></th>\n",
       "      <th>destination</th>\n",
       "      <th>sustainability_cert_int</th>\n",
       "    </tr>\n",
       "  </thead>\n",
       "  <tbody>\n",
       "    <tr>\n",
       "      <th>0</th>\n",
       "      <td>Berlin</td>\n",
       "      <td>0.310526</td>\n",
       "    </tr>\n",
       "    <tr>\n",
       "      <th>1</th>\n",
       "      <td>Havana</td>\n",
       "      <td>0.000000</td>\n",
       "    </tr>\n",
       "    <tr>\n",
       "      <th>2</th>\n",
       "      <td>Madeira</td>\n",
       "      <td>0.042787</td>\n",
       "    </tr>\n",
       "    <tr>\n",
       "      <th>3</th>\n",
       "      <td>New York</td>\n",
       "      <td>0.000000</td>\n",
       "    </tr>\n",
       "    <tr>\n",
       "      <th>4</th>\n",
       "      <td>Paris</td>\n",
       "      <td>0.005310</td>\n",
       "    </tr>\n",
       "    <tr>\n",
       "      <th>5</th>\n",
       "      <td>Phuket</td>\n",
       "      <td>0.000000</td>\n",
       "    </tr>\n",
       "    <tr>\n",
       "      <th>6</th>\n",
       "      <td>Rome</td>\n",
       "      <td>0.001813</td>\n",
       "    </tr>\n",
       "  </tbody>\n",
       "</table>\n",
       "</div>"
      ],
      "text/plain": [
       "  destination  sustainability_cert_int\n",
       "0      Berlin                 0.310526\n",
       "1      Havana                 0.000000\n",
       "2     Madeira                 0.042787\n",
       "3    New York                 0.000000\n",
       "4       Paris                 0.005310\n",
       "5      Phuket                 0.000000\n",
       "6        Rome                 0.001813"
      ]
     },
     "execution_count": 112,
     "metadata": {},
     "output_type": "execute_result"
    }
   ],
   "source": [
    "accommodations_df.groupby(\"destination\")[\"sustainability_cert_int\"].mean().reset_index()"
   ]
  },
  {
   "cell_type": "markdown",
   "metadata": {},
   "source": [
    "### 2.3 Activities"
   ]
  },
  {
   "cell_type": "code",
   "execution_count": 125,
   "metadata": {},
   "outputs": [
    {
     "data": {
      "text/plain": [
       "Index(['Unnamed: 0', 'activity_name', 'description', 'url', 'image',\n",
       "       'available_days', 'available_times', 'latitude', 'longitude', 'address',\n",
       "       'price', 'currency', 'category', 'week', 'destination', 'hours_min',\n",
       "       'hours_max'],\n",
       "      dtype='object')"
      ]
     },
     "execution_count": 125,
     "metadata": {},
     "output_type": "execute_result"
    }
   ],
   "source": [
    "activities_df.columns"
   ]
  },
  {
   "cell_type": "markdown",
   "metadata": {},
   "source": [
    "Top category per destination"
   ]
  },
  {
   "cell_type": "code",
   "execution_count": 140,
   "metadata": {},
   "outputs": [
    {
     "data": {
      "text/html": [
       "<div>\n",
       "<style scoped>\n",
       "    .dataframe tbody tr th:only-of-type {\n",
       "        vertical-align: middle;\n",
       "    }\n",
       "\n",
       "    .dataframe tbody tr th {\n",
       "        vertical-align: top;\n",
       "    }\n",
       "\n",
       "    .dataframe thead th {\n",
       "        text-align: right;\n",
       "    }\n",
       "</style>\n",
       "<table border=\"1\" class=\"dataframe\">\n",
       "  <thead>\n",
       "    <tr style=\"text-align: right;\">\n",
       "      <th></th>\n",
       "      <th>destination</th>\n",
       "      <th>second_top_category</th>\n",
       "    </tr>\n",
       "  </thead>\n",
       "  <tbody>\n",
       "    <tr>\n",
       "      <th>0</th>\n",
       "      <td>berlin</td>\n",
       "      <td>Inglés</td>\n",
       "    </tr>\n",
       "    <tr>\n",
       "      <th>1</th>\n",
       "      <td>madeira</td>\n",
       "      <td>Paseos en barco</td>\n",
       "    </tr>\n",
       "    <tr>\n",
       "      <th>2</th>\n",
       "      <td>nueva-york</td>\n",
       "      <td>Espectáculos</td>\n",
       "    </tr>\n",
       "    <tr>\n",
       "      <th>3</th>\n",
       "      <td>paris</td>\n",
       "      <td>Inglés</td>\n",
       "    </tr>\n",
       "    <tr>\n",
       "      <th>4</th>\n",
       "      <td>phuket</td>\n",
       "      <td>Seguro, sin contratiempos</td>\n",
       "    </tr>\n",
       "    <tr>\n",
       "      <th>5</th>\n",
       "      <td>roma</td>\n",
       "      <td>Espectáculos</td>\n",
       "    </tr>\n",
       "  </tbody>\n",
       "</table>\n",
       "</div>"
      ],
      "text/plain": [
       "  destination        second_top_category\n",
       "0      berlin                     Inglés\n",
       "1     madeira            Paseos en barco\n",
       "2  nueva-york               Espectáculos\n",
       "3       paris                     Inglés\n",
       "4      phuket  Seguro, sin contratiempos\n",
       "5        roma               Espectáculos"
      ]
     },
     "execution_count": 140,
     "metadata": {},
     "output_type": "execute_result"
    }
   ],
   "source": [
    "(activities_df.groupby('destination')['category']\n",
    "    .agg(lambda x: x.value_counts().index[2] if len(x.value_counts()) > 1 else np.nan)\n",
    "    .reset_index(name='second_top_category'))"
   ]
  },
  {
   "cell_type": "markdown",
   "metadata": {},
   "source": [
    "Average and median price per activity"
   ]
  },
  {
   "cell_type": "code",
   "execution_count": 133,
   "metadata": {},
   "outputs": [
    {
     "data": {
      "text/html": [
       "<div>\n",
       "<style scoped>\n",
       "    .dataframe tbody tr th:only-of-type {\n",
       "        vertical-align: middle;\n",
       "    }\n",
       "\n",
       "    .dataframe tbody tr th {\n",
       "        vertical-align: top;\n",
       "    }\n",
       "\n",
       "    .dataframe thead th {\n",
       "        text-align: right;\n",
       "    }\n",
       "</style>\n",
       "<table border=\"1\" class=\"dataframe\">\n",
       "  <thead>\n",
       "    <tr style=\"text-align: right;\">\n",
       "      <th></th>\n",
       "      <th>mean</th>\n",
       "      <th>median</th>\n",
       "    </tr>\n",
       "    <tr>\n",
       "      <th>destination</th>\n",
       "      <th></th>\n",
       "      <th></th>\n",
       "    </tr>\n",
       "  </thead>\n",
       "  <tbody>\n",
       "    <tr>\n",
       "      <th>berlin</th>\n",
       "      <td>10.556497</td>\n",
       "      <td>6.600</td>\n",
       "    </tr>\n",
       "    <tr>\n",
       "      <th>madeira</th>\n",
       "      <td>11.314254</td>\n",
       "      <td>10.000</td>\n",
       "    </tr>\n",
       "    <tr>\n",
       "      <th>nueva-york</th>\n",
       "      <td>25.457199</td>\n",
       "      <td>13.750</td>\n",
       "    </tr>\n",
       "    <tr>\n",
       "      <th>paris</th>\n",
       "      <td>12.635709</td>\n",
       "      <td>6.000</td>\n",
       "    </tr>\n",
       "    <tr>\n",
       "      <th>phuket</th>\n",
       "      <td>819.464444</td>\n",
       "      <td>382.320</td>\n",
       "    </tr>\n",
       "    <tr>\n",
       "      <th>roma</th>\n",
       "      <td>21.830811</td>\n",
       "      <td>11.225</td>\n",
       "    </tr>\n",
       "  </tbody>\n",
       "</table>\n",
       "</div>"
      ],
      "text/plain": [
       "                   mean   median\n",
       "destination                     \n",
       "berlin        10.556497    6.600\n",
       "madeira       11.314254   10.000\n",
       "nueva-york    25.457199   13.750\n",
       "paris         12.635709    6.000\n",
       "phuket       819.464444  382.320\n",
       "roma          21.830811   11.225"
      ]
     },
     "execution_count": 133,
     "metadata": {},
     "output_type": "execute_result"
    }
   ],
   "source": [
    "(activities_df.groupby('destination')['price'].agg([\"mean\",\"median\"]))"
   ]
  },
  {
   "cell_type": "markdown",
   "metadata": {},
   "source": [
    "Mean and median price per activity in Phuket are bigger than in other destinations, that's probably because activities in Phuket are longer or more adventurous, like long trips in boat or."
   ]
  },
  {
   "cell_type": "code",
   "execution_count": 134,
   "metadata": {},
   "outputs": [
    {
     "data": {
      "text/html": [
       "<div>\n",
       "<style scoped>\n",
       "    .dataframe tbody tr th:only-of-type {\n",
       "        vertical-align: middle;\n",
       "    }\n",
       "\n",
       "    .dataframe tbody tr th {\n",
       "        vertical-align: top;\n",
       "    }\n",
       "\n",
       "    .dataframe thead th {\n",
       "        text-align: right;\n",
       "    }\n",
       "</style>\n",
       "<table border=\"1\" class=\"dataframe\">\n",
       "  <thead>\n",
       "    <tr style=\"text-align: right;\">\n",
       "      <th></th>\n",
       "      <th>mean</th>\n",
       "      <th>median</th>\n",
       "    </tr>\n",
       "    <tr>\n",
       "      <th>destination</th>\n",
       "      <th></th>\n",
       "      <th></th>\n",
       "    </tr>\n",
       "  </thead>\n",
       "  <tbody>\n",
       "    <tr>\n",
       "      <th>berlin</th>\n",
       "      <td>12.378521</td>\n",
       "      <td>4.000000</td>\n",
       "    </tr>\n",
       "    <tr>\n",
       "      <th>madeira</th>\n",
       "      <td>7.626812</td>\n",
       "      <td>4.000000</td>\n",
       "    </tr>\n",
       "    <tr>\n",
       "      <th>nueva-york</th>\n",
       "      <td>12.272926</td>\n",
       "      <td>2.583333</td>\n",
       "    </tr>\n",
       "    <tr>\n",
       "      <th>paris</th>\n",
       "      <td>7.649560</td>\n",
       "      <td>2.000000</td>\n",
       "    </tr>\n",
       "    <tr>\n",
       "      <th>phuket</th>\n",
       "      <td>22.592593</td>\n",
       "      <td>8.000000</td>\n",
       "    </tr>\n",
       "    <tr>\n",
       "      <th>roma</th>\n",
       "      <td>29.277369</td>\n",
       "      <td>3.000000</td>\n",
       "    </tr>\n",
       "  </tbody>\n",
       "</table>\n",
       "</div>"
      ],
      "text/plain": [
       "                  mean    median\n",
       "destination                     \n",
       "berlin       12.378521  4.000000\n",
       "madeira       7.626812  4.000000\n",
       "nueva-york   12.272926  2.583333\n",
       "paris         7.649560  2.000000\n",
       "phuket       22.592593  8.000000\n",
       "roma         29.277369  3.000000"
      ]
     },
     "execution_count": 134,
     "metadata": {},
     "output_type": "execute_result"
    }
   ],
   "source": [
    "(activities_df.groupby('destination')['hours_max'].agg([\"mean\",\"median\"]))"
   ]
  },
  {
   "cell_type": "markdown",
   "metadata": {},
   "source": [
    "In most cases, very expensive activities inflate the mean activity price."
   ]
  },
  {
   "cell_type": "code",
   "execution_count": null,
   "metadata": {},
   "outputs": [],
   "source": []
  }
 ],
 "metadata": {
  "kernelspec": {
   "display_name": "3._Travel_planning-pO_WbS_m",
   "language": "python",
   "name": "python3"
  },
  "language_info": {
   "codemirror_mode": {
    "name": "ipython",
    "version": 3
   },
   "file_extension": ".py",
   "mimetype": "text/x-python",
   "name": "python",
   "nbconvert_exporter": "python",
   "pygments_lexer": "ipython3",
   "version": "3.11.4"
  }
 },
 "nbformat": 4,
 "nbformat_minor": 2
}
