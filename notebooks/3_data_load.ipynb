{
 "cells": [
  {
   "cell_type": "markdown",
   "metadata": {},
   "source": [
    "### 0. Imports"
   ]
  },
  {
   "cell_type": "code",
   "execution_count": 13,
   "metadata": {},
   "outputs": [],
   "source": [
    "import pandas as pd"
   ]
  },
  {
   "cell_type": "markdown",
   "metadata": {},
   "source": [
    "# 1. Introduction to this notebook"
   ]
  },
  {
   "cell_type": "markdown",
   "metadata": {},
   "source": [
    "# 2. Database design"
   ]
  },
  {
   "cell_type": "markdown",
   "metadata": {},
   "source": [
    "## 2.3 Activities and availability"
   ]
  },
  {
   "cell_type": "code",
   "execution_count": 14,
   "metadata": {},
   "outputs": [
    {
     "data": {
      "text/html": [
       "<div>\n",
       "<style scoped>\n",
       "    .dataframe tbody tr th:only-of-type {\n",
       "        vertical-align: middle;\n",
       "    }\n",
       "\n",
       "    .dataframe tbody tr th {\n",
       "        vertical-align: top;\n",
       "    }\n",
       "\n",
       "    .dataframe thead th {\n",
       "        text-align: right;\n",
       "    }\n",
       "</style>\n",
       "<table border=\"1\" class=\"dataframe\">\n",
       "  <thead>\n",
       "    <tr style=\"text-align: right;\">\n",
       "      <th></th>\n",
       "      <th>query_date</th>\n",
       "      <th>city</th>\n",
       "      <th>activity_date_range_start</th>\n",
       "      <th>activity_date_range_end</th>\n",
       "      <th>activity_name</th>\n",
       "      <th>description</th>\n",
       "      <th>url</th>\n",
       "      <th>image</th>\n",
       "      <th>available_days</th>\n",
       "      <th>available_times</th>\n",
       "      <th>duration</th>\n",
       "      <th>latitude</th>\n",
       "      <th>longitude</th>\n",
       "      <th>price</th>\n",
       "      <th>currency</th>\n",
       "      <th>category</th>\n",
       "      <th>spanish</th>\n",
       "      <th>address</th>\n",
       "    </tr>\n",
       "  </thead>\n",
       "  <tbody>\n",
       "    <tr>\n",
       "      <th>0</th>\n",
       "      <td>2024-11-03 12:47:29.458558</td>\n",
       "      <td>barcelona</td>\n",
       "      <td>2024-11-28</td>\n",
       "      <td>2024-12-04</td>\n",
       "      <td>Tour privado por Barcelona ¡Tú eliges!</td>\n",
       "      <td>Reservando nuestra visita privada tendréis un ...</td>\n",
       "      <td>www.civitatis.com/es/barcelona/tour-privado-ba...</td>\n",
       "      <td>www.civitatis.com/f/espana/barcelona/tour-priv...</td>\n",
       "      <td>[30, 29, 02, 03, 01, 28, 04]</td>\n",
       "      <td>[[9:00, 10:00, 11:00, 12:00, 13:00, 14:00, 15:...</td>\n",
       "      <td>2h 30m -5h</td>\n",
       "      <td>0</td>\n",
       "      <td>0</td>\n",
       "      <td>40.00</td>\n",
       "      <td>EUR</td>\n",
       "      <td>Visitas guiadas y free tours</td>\n",
       "      <td>Español</td>\n",
       "      <td>Address not found</td>\n",
       "    </tr>\n",
       "    <tr>\n",
       "      <th>1</th>\n",
       "      <td>2024-11-03 12:47:29.464586</td>\n",
       "      <td>barcelona</td>\n",
       "      <td>2024-11-28</td>\n",
       "      <td>2024-12-04</td>\n",
       "      <td>Excursión a Montserrat + Visita a una bodega</td>\n",
       "      <td>En esta excursión a Montserrat no solo disfrut...</td>\n",
       "      <td>www.civitatis.com/es/barcelona/tour-tapas-vino...</td>\n",
       "      <td>www.civitatis.com/f/espana/barcelona/tour-tapa...</td>\n",
       "      <td>[04, 30, 28, 03, 02, 01, 29]</td>\n",
       "      <td>[[8:45], [8:45], [8:45], [8:45], [8:45], [8:45...</td>\n",
       "      <td>7h 30m</td>\n",
       "      <td>41.3940236912484</td>\n",
       "      <td>2.181866082214644</td>\n",
       "      <td>19.98</td>\n",
       "      <td>EUR</td>\n",
       "      <td>Gastronomía y enoturismo</td>\n",
       "      <td>Español</td>\n",
       "      <td>Barcelona (Bus Terminal Nord), Eixample, 08013...</td>\n",
       "    </tr>\n",
       "    <tr>\n",
       "      <th>2</th>\n",
       "      <td>2024-11-03 12:47:29.468587</td>\n",
       "      <td>barcelona</td>\n",
       "      <td>2024-11-28</td>\n",
       "      <td>2024-12-04</td>\n",
       "      <td>Paseo en catamarán al atardecer con música en ...</td>\n",
       "      <td>Contempla el skyline de Barcelona mientras dis...</td>\n",
       "      <td>www.civitatis.com/es/barcelona/paseo-catamaran...</td>\n",
       "      <td>www.civitatis.com/f/espana/barcelona/paseo-cat...</td>\n",
       "      <td>[30, 29, 01, 04, 28, 02, 03]</td>\n",
       "      <td>[[16:30], [16:30], [16:30], [16:30], [16:30], ...</td>\n",
       "      <td>1h 30m</td>\n",
       "      <td>41.37495867288118</td>\n",
       "      <td>2.17849589524371</td>\n",
       "      <td>7.65</td>\n",
       "      <td>EUR</td>\n",
       "      <td>Paseos en barco</td>\n",
       "      <td>Español</td>\n",
       "      <td>Moll de les Drassanes, 3P, Ciutat Vella, 08039...</td>\n",
       "    </tr>\n",
       "  </tbody>\n",
       "</table>\n",
       "</div>"
      ],
      "text/plain": [
       "                  query_date       city activity_date_range_start  \\\n",
       "0 2024-11-03 12:47:29.458558  barcelona                2024-11-28   \n",
       "1 2024-11-03 12:47:29.464586  barcelona                2024-11-28   \n",
       "2 2024-11-03 12:47:29.468587  barcelona                2024-11-28   \n",
       "\n",
       "  activity_date_range_end                                      activity_name  \\\n",
       "0              2024-12-04             Tour privado por Barcelona ¡Tú eliges!   \n",
       "1              2024-12-04       Excursión a Montserrat + Visita a una bodega   \n",
       "2              2024-12-04  Paseo en catamarán al atardecer con música en ...   \n",
       "\n",
       "                                         description  \\\n",
       "0  Reservando nuestra visita privada tendréis un ...   \n",
       "1  En esta excursión a Montserrat no solo disfrut...   \n",
       "2  Contempla el skyline de Barcelona mientras dis...   \n",
       "\n",
       "                                                 url  \\\n",
       "0  www.civitatis.com/es/barcelona/tour-privado-ba...   \n",
       "1  www.civitatis.com/es/barcelona/tour-tapas-vino...   \n",
       "2  www.civitatis.com/es/barcelona/paseo-catamaran...   \n",
       "\n",
       "                                               image  \\\n",
       "0  www.civitatis.com/f/espana/barcelona/tour-priv...   \n",
       "1  www.civitatis.com/f/espana/barcelona/tour-tapa...   \n",
       "2  www.civitatis.com/f/espana/barcelona/paseo-cat...   \n",
       "\n",
       "                 available_days  \\\n",
       "0  [30, 29, 02, 03, 01, 28, 04]   \n",
       "1  [04, 30, 28, 03, 02, 01, 29]   \n",
       "2  [30, 29, 01, 04, 28, 02, 03]   \n",
       "\n",
       "                                     available_times    duration  \\\n",
       "0  [[9:00, 10:00, 11:00, 12:00, 13:00, 14:00, 15:...  2h 30m -5h   \n",
       "1  [[8:45], [8:45], [8:45], [8:45], [8:45], [8:45...      7h 30m   \n",
       "2  [[16:30], [16:30], [16:30], [16:30], [16:30], ...      1h 30m   \n",
       "\n",
       "            latitude          longitude  price currency  \\\n",
       "0                  0                  0  40.00      EUR   \n",
       "1   41.3940236912484  2.181866082214644  19.98      EUR   \n",
       "2  41.37495867288118   2.17849589524371   7.65      EUR   \n",
       "\n",
       "                       category  spanish  \\\n",
       "0  Visitas guiadas y free tours  Español   \n",
       "1      Gastronomía y enoturismo  Español   \n",
       "2               Paseos en barco  Español   \n",
       "\n",
       "                                             address  \n",
       "0                                  Address not found  \n",
       "1  Barcelona (Bus Terminal Nord), Eixample, 08013...  \n",
       "2  Moll de les Drassanes, 3P, Ciutat Vella, 08039...  "
      ]
     },
     "execution_count": 14,
     "metadata": {},
     "output_type": "execute_result"
    }
   ],
   "source": [
    "activities = pd.read_parquet(\"../data/activities/transformed/activities.parquet\")\n",
    "availabilities = pd.read_parquet(\"../data/activities/transformed/availabilities.parquet\")\n",
    "activities.head(3)"
   ]
  },
  {
   "cell_type": "code",
   "execution_count": 15,
   "metadata": {},
   "outputs": [
    {
     "data": {
      "text/html": [
       "<div>\n",
       "<style scoped>\n",
       "    .dataframe tbody tr th:only-of-type {\n",
       "        vertical-align: middle;\n",
       "    }\n",
       "\n",
       "    .dataframe tbody tr th {\n",
       "        vertical-align: top;\n",
       "    }\n",
       "\n",
       "    .dataframe thead th {\n",
       "        text-align: right;\n",
       "    }\n",
       "</style>\n",
       "<table border=\"1\" class=\"dataframe\">\n",
       "  <thead>\n",
       "    <tr style=\"text-align: right;\">\n",
       "      <th></th>\n",
       "      <th>available_times</th>\n",
       "      <th>activity_name</th>\n",
       "      <th>activity_date_range_start</th>\n",
       "      <th>activity_date_range_end</th>\n",
       "      <th>available_date</th>\n",
       "    </tr>\n",
       "  </thead>\n",
       "  <tbody>\n",
       "    <tr>\n",
       "      <th>0</th>\n",
       "      <td>09:00:00</td>\n",
       "      <td>Tour privado por Barcelona ¡Tú eliges!</td>\n",
       "      <td>2024-11-28</td>\n",
       "      <td>2024-12-04</td>\n",
       "      <td>2024-11-30</td>\n",
       "    </tr>\n",
       "    <tr>\n",
       "      <th>0</th>\n",
       "      <td>10:00:00</td>\n",
       "      <td>Tour privado por Barcelona ¡Tú eliges!</td>\n",
       "      <td>2024-11-28</td>\n",
       "      <td>2024-12-04</td>\n",
       "      <td>2024-11-30</td>\n",
       "    </tr>\n",
       "    <tr>\n",
       "      <th>0</th>\n",
       "      <td>11:00:00</td>\n",
       "      <td>Tour privado por Barcelona ¡Tú eliges!</td>\n",
       "      <td>2024-11-28</td>\n",
       "      <td>2024-12-04</td>\n",
       "      <td>2024-11-30</td>\n",
       "    </tr>\n",
       "  </tbody>\n",
       "</table>\n",
       "</div>"
      ],
      "text/plain": [
       "  available_times                           activity_name  \\\n",
       "0        09:00:00  Tour privado por Barcelona ¡Tú eliges!   \n",
       "0        10:00:00  Tour privado por Barcelona ¡Tú eliges!   \n",
       "0        11:00:00  Tour privado por Barcelona ¡Tú eliges!   \n",
       "\n",
       "  activity_date_range_start activity_date_range_end available_date  \n",
       "0                2024-11-28              2024-12-04     2024-11-30  \n",
       "0                2024-11-28              2024-12-04     2024-11-30  \n",
       "0                2024-11-28              2024-12-04     2024-11-30  "
      ]
     },
     "execution_count": 15,
     "metadata": {},
     "output_type": "execute_result"
    }
   ],
   "source": [
    "availabilities.head(3)"
   ]
  },
  {
   "cell_type": "markdown",
   "metadata": {},
   "source": [
    "The activites have persistent information in their name, description, url, image, duration, latitude, longitude, category, spanish (language) and address. Thus, it makes for one single table of the database."
   ]
  },
  {
   "cell_type": "markdown",
   "metadata": {},
   "source": [
    "### Activities table"
   ]
  },
  {
   "cell_type": "markdown",
   "metadata": {},
   "source": [
    "- activity_id PK\n",
    "- activity_name\n",
    "- city\n",
    "- description\n",
    "- url\n",
    "- image\n",
    "- duration\n",
    "- latitude\n",
    "- longitude\n",
    "- category\n",
    "- spanish\n",
    "- address"
   ]
  },
  {
   "cell_type": "code",
   "execution_count": 16,
   "metadata": {},
   "outputs": [],
   "source": [
    "activities_table = activities[[\"activity_name\",\"city\",\"description\",\"url\",\"image\",\"duration\",\"latitude\",\"longitude\",\"category\",\"spanish\",\"address\"]]"
   ]
  },
  {
   "cell_type": "markdown",
   "metadata": {},
   "source": [
    "Then, there is more time dependant informations about them, which are:\n",
    "- Available date and time\n",
    "- Price\n",
    "\n",
    "Both of these are bound to query time, as prices and availabilities are subject to change, due to possible offers or changes in demand. following the rules of normalisation, they represent 2 separate tables to avoid duplicities in information."
   ]
  },
  {
   "cell_type": "markdown",
   "metadata": {},
   "source": [
    "#### Activities_prices"
   ]
  },
  {
   "cell_type": "markdown",
   "metadata": {},
   "source": [
    "The price_id will be serial."
   ]
  },
  {
   "cell_type": "markdown",
   "metadata": {},
   "source": [
    "- price_id PK\n",
    "- activity_id FK\n",
    "- query_date\n",
    "- price\n",
    "- currency"
   ]
  },
  {
   "cell_type": "markdown",
   "metadata": {},
   "source": [
    "The table will need the activity name and city to check for the activity_id in the database, and then map the ids to the table to upload it all.\n",
    "\n",
    "If streamlined, it will have to do that activity by activity."
   ]
  },
  {
   "cell_type": "code",
   "execution_count": null,
   "metadata": {},
   "outputs": [],
   "source": [
    "activities_prices = activities[[\"query_date\",\"price\",\"currency\"]]"
   ]
  },
  {
   "cell_type": "markdown",
   "metadata": {},
   "source": []
  },
  {
   "cell_type": "markdown",
   "metadata": {},
   "source": [
    "#### Activities_availabilities"
   ]
  },
  {
   "cell_type": "markdown",
   "metadata": {},
   "source": []
  },
  {
   "cell_type": "markdown",
   "metadata": {},
   "source": [
    "Cities"
   ]
  }
 ],
 "metadata": {
  "kernelspec": {
   "display_name": "5._Travel_planning_V2-mWPstoFm",
   "language": "python",
   "name": "python3"
  },
  "language_info": {
   "codemirror_mode": {
    "name": "ipython",
    "version": 3
   },
   "file_extension": ".py",
   "mimetype": "text/x-python",
   "name": "python",
   "nbconvert_exporter": "python",
   "pygments_lexer": "ipython3",
   "version": "3.11.0b4"
  }
 },
 "nbformat": 4,
 "nbformat_minor": 2
}
