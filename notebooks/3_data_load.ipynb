{
 "cells": [
  {
   "cell_type": "markdown",
   "metadata": {},
   "source": [
    "### 0. Imports"
   ]
  },
  {
   "cell_type": "code",
   "execution_count": 470,
   "metadata": {},
   "outputs": [],
   "source": [
    "import pandas as pd\n",
    "\n",
    "# work with environment variables\n",
    "import os\n",
    "from dotenv import load_dotenv\n",
    "\n",
    "# Load environment variables from .env file\n",
    "load_dotenv()\n",
    "\n",
    "# Retrieve database credentials\n",
    "USERNAME = os.getenv(\"DATABASE_USERNAME\")\n",
    "PASSWORD = os.getenv(\"DATABASE_PASSWORD\")\n",
    "\n",
    "# append parent folder to path\n",
    "import sys\n",
    "sys.path.append(\"..\")\n",
    "\n",
    "# import data load support functions\n",
    "import src.data_load_support as dls\n",
    "\n",
    "# import database connection support functions\n",
    "import src.database_connection_support as dcs"
   ]
  },
  {
   "cell_type": "markdown",
   "metadata": {},
   "source": [
    "# 1. Introduction to this notebook"
   ]
  },
  {
   "cell_type": "markdown",
   "metadata": {},
   "source": [
    "# 2. Database design"
   ]
  },
  {
   "cell_type": "code",
   "execution_count": 471,
   "metadata": {},
   "outputs": [
    {
     "data": {
      "text/html": [
       "<div>\n",
       "<style scoped>\n",
       "    .dataframe tbody tr th:only-of-type {\n",
       "        vertical-align: middle;\n",
       "    }\n",
       "\n",
       "    .dataframe tbody tr th {\n",
       "        vertical-align: top;\n",
       "    }\n",
       "\n",
       "    .dataframe thead th {\n",
       "        text-align: right;\n",
       "    }\n",
       "</style>\n",
       "<table border=\"1\" class=\"dataframe\">\n",
       "  <thead>\n",
       "    <tr style=\"text-align: right;\">\n",
       "      <th></th>\n",
       "      <th>country</th>\n",
       "      <th>city_name</th>\n",
       "      <th>city_entityid</th>\n",
       "      <th>airport_skyid</th>\n",
       "      <th>airport_entityid</th>\n",
       "      <th>airport_name</th>\n",
       "    </tr>\n",
       "  </thead>\n",
       "  <tbody>\n",
       "    <tr>\n",
       "      <th>0</th>\n",
       "      <td>spain</td>\n",
       "      <td>madrid</td>\n",
       "      <td>27544850</td>\n",
       "      <td>MAD</td>\n",
       "      <td>95565077</td>\n",
       "      <td>madrid</td>\n",
       "    </tr>\n",
       "    <tr>\n",
       "      <th>1</th>\n",
       "      <td>spain</td>\n",
       "      <td>barcelona</td>\n",
       "      <td>27548283</td>\n",
       "      <td>BCN</td>\n",
       "      <td>95565085</td>\n",
       "      <td>barcelona</td>\n",
       "    </tr>\n",
       "    <tr>\n",
       "      <th>2</th>\n",
       "      <td>spain</td>\n",
       "      <td>port of spain</td>\n",
       "      <td>27546011</td>\n",
       "      <td>POS</td>\n",
       "      <td>104120358</td>\n",
       "      <td>port of spain</td>\n",
       "    </tr>\n",
       "    <tr>\n",
       "      <th>3</th>\n",
       "      <td>spain</td>\n",
       "      <td>malaga</td>\n",
       "      <td>27547484</td>\n",
       "      <td>AGP</td>\n",
       "      <td>95565095</td>\n",
       "      <td>malaga</td>\n",
       "    </tr>\n",
       "    <tr>\n",
       "      <th>4</th>\n",
       "      <td>spain</td>\n",
       "      <td>seville</td>\n",
       "      <td>27547022</td>\n",
       "      <td>SVQ</td>\n",
       "      <td>95565089</td>\n",
       "      <td>seville</td>\n",
       "    </tr>\n",
       "  </tbody>\n",
       "</table>\n",
       "</div>"
      ],
      "text/plain": [
       "  country      city_name  city_entityid airport_skyid  airport_entityid  \\\n",
       "0   spain         madrid       27544850           MAD          95565077   \n",
       "1   spain      barcelona       27548283           BCN          95565085   \n",
       "2   spain  port of spain       27546011           POS         104120358   \n",
       "3   spain         malaga       27547484           AGP          95565095   \n",
       "4   spain        seville       27547022           SVQ          95565089   \n",
       "\n",
       "    airport_name  \n",
       "0         madrid  \n",
       "1      barcelona  \n",
       "2  port of spain  \n",
       "3         malaga  \n",
       "4        seville  "
      ]
     },
     "execution_count": 471,
     "metadata": {},
     "output_type": "execute_result"
    }
   ],
   "source": [
    "airports = pd.read_parquet(\"../data/airport_codes/transformed/countries_airports.parquet\")\n",
    "airports.head()"
   ]
  },
  {
   "cell_type": "markdown",
   "metadata": {},
   "source": [
    "## 2.1 Cities"
   ]
  },
  {
   "cell_type": "markdown",
   "metadata": {},
   "source": [
    "```sql\n",
    "-- Create cities table\n",
    "CREATE TABLE cities (\n",
    "    city_entityid SERIAL PRIMARY KEY,\n",
    "    city_name VARCHAR(255) NOT NULL,\n",
    "    country VARCHAR(100)\n",
    ");\n",
    "```"
   ]
  },
  {
   "cell_type": "code",
   "execution_count": 472,
   "metadata": {},
   "outputs": [],
   "source": [
    "cities = airports[[\"country\",\"city_name\",\"city_entityid\"]]"
   ]
  },
  {
   "cell_type": "markdown",
   "metadata": {},
   "source": [
    "## 2.2 Flights"
   ]
  },
  {
   "cell_type": "markdown",
   "metadata": {},
   "source": [
    "### 2.2.1 Flight tables - Airports"
   ]
  },
  {
   "cell_type": "markdown",
   "metadata": {},
   "source": [
    "```sql\n",
    "-- Create airports table\n",
    "CREATE TABLE airports (\n",
    "    airport_entityid SERIAL PRIMARY KEY,\n",
    "    airport_skyid VARCHAR(10) NOT NULL,\n",
    "    airport_name VARCHAR(255) NOT NULL,\n",
    "    city_entityid INT REFERENCES cities(city_entityid) ON DELETE SET NULL\n",
    ");\n",
    "```"
   ]
  },
  {
   "cell_type": "markdown",
   "metadata": {},
   "source": [
    "- airport_entityid PK\n",
    "- airport_skyid\n",
    "- airport_name\n",
    "- city_entityid\n"
   ]
  },
  {
   "cell_type": "code",
   "execution_count": 473,
   "metadata": {},
   "outputs": [],
   "source": [
    "airports = airports[[\"airport_entityid\",\"airport_skyid\",\"airport_name\",\"city_entityid\"]]"
   ]
  },
  {
   "cell_type": "markdown",
   "metadata": {},
   "source": [
    "### 2.2.2 Flight tables - Flights"
   ]
  },
  {
   "cell_type": "code",
   "execution_count": 474,
   "metadata": {},
   "outputs": [
    {
     "data": {
      "text/html": [
       "<div>\n",
       "<style scoped>\n",
       "    .dataframe tbody tr th:only-of-type {\n",
       "        vertical-align: middle;\n",
       "    }\n",
       "\n",
       "    .dataframe tbody tr th {\n",
       "        vertical-align: top;\n",
       "    }\n",
       "\n",
       "    .dataframe thead th {\n",
       "        text-align: right;\n",
       "    }\n",
       "</style>\n",
       "<table border=\"1\" class=\"dataframe\">\n",
       "  <thead>\n",
       "    <tr style=\"text-align: right;\">\n",
       "      <th></th>\n",
       "      <th>itinerary_id</th>\n",
       "      <th>query_date</th>\n",
       "      <th>score</th>\n",
       "      <th>duration</th>\n",
       "      <th>price</th>\n",
       "      <th>price_currency</th>\n",
       "      <th>stops</th>\n",
       "      <th>departure</th>\n",
       "      <th>arrival</th>\n",
       "      <th>company</th>\n",
       "      <th>...</th>\n",
       "      <th>fare_is_change_allowed</th>\n",
       "      <th>fare_is_partially_changeable</th>\n",
       "      <th>fare_is_cancellation_allowed</th>\n",
       "      <th>fare_is_partially_refundable</th>\n",
       "      <th>origin_airport</th>\n",
       "      <th>destination_airport</th>\n",
       "      <th>origin_airport_code</th>\n",
       "      <th>destination_airport_code</th>\n",
       "      <th>origin_airport_entityid</th>\n",
       "      <th>destination_airport_entityid</th>\n",
       "    </tr>\n",
       "  </thead>\n",
       "  <tbody>\n",
       "    <tr>\n",
       "      <th>0</th>\n",
       "      <td>9772-2411031955--32222-0-13870-2411032120</td>\n",
       "      <td>2024-11-03 16:45:48.489825</td>\n",
       "      <td>0.999000</td>\n",
       "      <td>85</td>\n",
       "      <td>164</td>\n",
       "      <td>€</td>\n",
       "      <td>0</td>\n",
       "      <td>2024-11-03 19:55:00</td>\n",
       "      <td>2024-11-03 21:20:00</td>\n",
       "      <td>Iberia</td>\n",
       "      <td>...</td>\n",
       "      <td>False</td>\n",
       "      <td>False</td>\n",
       "      <td>False</td>\n",
       "      <td>False</td>\n",
       "      <td>Barcelona</td>\n",
       "      <td>Madrid</td>\n",
       "      <td>BCN</td>\n",
       "      <td>MAD</td>\n",
       "      <td>95565085</td>\n",
       "      <td>95565077</td>\n",
       "    </tr>\n",
       "    <tr>\n",
       "      <th>1</th>\n",
       "      <td>9772-2411031625--31685-0-13870-2411031745</td>\n",
       "      <td>2024-11-03 16:45:48.491871</td>\n",
       "      <td>0.784844</td>\n",
       "      <td>80</td>\n",
       "      <td>175</td>\n",
       "      <td>€</td>\n",
       "      <td>0</td>\n",
       "      <td>2024-11-03 16:25:00</td>\n",
       "      <td>2024-11-03 17:45:00</td>\n",
       "      <td>Vueling Airlines</td>\n",
       "      <td>...</td>\n",
       "      <td>False</td>\n",
       "      <td>False</td>\n",
       "      <td>False</td>\n",
       "      <td>False</td>\n",
       "      <td>Barcelona</td>\n",
       "      <td>Madrid</td>\n",
       "      <td>BCN</td>\n",
       "      <td>MAD</td>\n",
       "      <td>95565085</td>\n",
       "      <td>95565077</td>\n",
       "    </tr>\n",
       "    <tr>\n",
       "      <th>2</th>\n",
       "      <td>9772-2411031800--32222-0-13870-2411031925</td>\n",
       "      <td>2024-11-03 16:45:48.493592</td>\n",
       "      <td>0.533734</td>\n",
       "      <td>85</td>\n",
       "      <td>234</td>\n",
       "      <td>€</td>\n",
       "      <td>0</td>\n",
       "      <td>2024-11-03 18:00:00</td>\n",
       "      <td>2024-11-03 19:25:00</td>\n",
       "      <td>Iberia</td>\n",
       "      <td>...</td>\n",
       "      <td>False</td>\n",
       "      <td>False</td>\n",
       "      <td>False</td>\n",
       "      <td>False</td>\n",
       "      <td>Barcelona</td>\n",
       "      <td>Madrid</td>\n",
       "      <td>BCN</td>\n",
       "      <td>MAD</td>\n",
       "      <td>95565085</td>\n",
       "      <td>95565077</td>\n",
       "    </tr>\n",
       "    <tr>\n",
       "      <th>3</th>\n",
       "      <td>9772-2411032105--32222-0-13870-2411032230</td>\n",
       "      <td>2024-11-03 16:45:48.493891</td>\n",
       "      <td>0.382849</td>\n",
       "      <td>85</td>\n",
       "      <td>175</td>\n",
       "      <td>€</td>\n",
       "      <td>0</td>\n",
       "      <td>2024-11-03 21:05:00</td>\n",
       "      <td>2024-11-03 22:30:00</td>\n",
       "      <td>Iberia</td>\n",
       "      <td>...</td>\n",
       "      <td>False</td>\n",
       "      <td>False</td>\n",
       "      <td>False</td>\n",
       "      <td>False</td>\n",
       "      <td>Barcelona</td>\n",
       "      <td>Madrid</td>\n",
       "      <td>BCN</td>\n",
       "      <td>MAD</td>\n",
       "      <td>95565085</td>\n",
       "      <td>95565077</td>\n",
       "    </tr>\n",
       "    <tr>\n",
       "      <th>4</th>\n",
       "      <td>9772-2411031625--32222-0-13870-2411031745</td>\n",
       "      <td>2024-11-03 16:45:48.495897</td>\n",
       "      <td>0.375225</td>\n",
       "      <td>80</td>\n",
       "      <td>359</td>\n",
       "      <td>€</td>\n",
       "      <td>0</td>\n",
       "      <td>2024-11-03 16:25:00</td>\n",
       "      <td>2024-11-03 17:45:00</td>\n",
       "      <td>Iberia</td>\n",
       "      <td>...</td>\n",
       "      <td>False</td>\n",
       "      <td>False</td>\n",
       "      <td>False</td>\n",
       "      <td>False</td>\n",
       "      <td>Barcelona</td>\n",
       "      <td>Madrid</td>\n",
       "      <td>BCN</td>\n",
       "      <td>MAD</td>\n",
       "      <td>95565085</td>\n",
       "      <td>95565077</td>\n",
       "    </tr>\n",
       "  </tbody>\n",
       "</table>\n",
       "<p>5 rows × 21 columns</p>\n",
       "</div>"
      ],
      "text/plain": [
       "                                itinerary_id                 query_date  \\\n",
       "0  9772-2411031955--32222-0-13870-2411032120 2024-11-03 16:45:48.489825   \n",
       "1  9772-2411031625--31685-0-13870-2411031745 2024-11-03 16:45:48.491871   \n",
       "2  9772-2411031800--32222-0-13870-2411031925 2024-11-03 16:45:48.493592   \n",
       "3  9772-2411032105--32222-0-13870-2411032230 2024-11-03 16:45:48.493891   \n",
       "4  9772-2411031625--32222-0-13870-2411031745 2024-11-03 16:45:48.495897   \n",
       "\n",
       "      score  duration  price price_currency  stops           departure  \\\n",
       "0  0.999000        85    164              €      0 2024-11-03 19:55:00   \n",
       "1  0.784844        80    175              €      0 2024-11-03 16:25:00   \n",
       "2  0.533734        85    234              €      0 2024-11-03 18:00:00   \n",
       "3  0.382849        85    175              €      0 2024-11-03 21:05:00   \n",
       "4  0.375225        80    359              €      0 2024-11-03 16:25:00   \n",
       "\n",
       "              arrival           company  ...  fare_is_change_allowed  \\\n",
       "0 2024-11-03 21:20:00            Iberia  ...                   False   \n",
       "1 2024-11-03 17:45:00  Vueling Airlines  ...                   False   \n",
       "2 2024-11-03 19:25:00            Iberia  ...                   False   \n",
       "3 2024-11-03 22:30:00            Iberia  ...                   False   \n",
       "4 2024-11-03 17:45:00            Iberia  ...                   False   \n",
       "\n",
       "   fare_is_partially_changeable  fare_is_cancellation_allowed  \\\n",
       "0                         False                         False   \n",
       "1                         False                         False   \n",
       "2                         False                         False   \n",
       "3                         False                         False   \n",
       "4                         False                         False   \n",
       "\n",
       "   fare_is_partially_refundable  origin_airport destination_airport  \\\n",
       "0                         False       Barcelona              Madrid   \n",
       "1                         False       Barcelona              Madrid   \n",
       "2                         False       Barcelona              Madrid   \n",
       "3                         False       Barcelona              Madrid   \n",
       "4                         False       Barcelona              Madrid   \n",
       "\n",
       "  origin_airport_code destination_airport_code origin_airport_entityid  \\\n",
       "0                 BCN                      MAD                95565085   \n",
       "1                 BCN                      MAD                95565085   \n",
       "2                 BCN                      MAD                95565085   \n",
       "3                 BCN                      MAD                95565085   \n",
       "4                 BCN                      MAD                95565085   \n",
       "\n",
       "  destination_airport_entityid  \n",
       "0                     95565077  \n",
       "1                     95565077  \n",
       "2                     95565077  \n",
       "3                     95565077  \n",
       "4                     95565077  \n",
       "\n",
       "[5 rows x 21 columns]"
      ]
     },
     "execution_count": 474,
     "metadata": {},
     "output_type": "execute_result"
    }
   ],
   "source": [
    "itineraries = pd.read_parquet(\"../data/flights/transformed/itineraries.parquet\")\n",
    "itineraries.head()"
   ]
  },
  {
   "cell_type": "markdown",
   "metadata": {},
   "source": [
    "- itinerary_id PK\n",
    "- origin_airport_entityid FK\n",
    "- destination_airport_entityid FK\n",
    "- departure_datetime\n",
    "- arrival_datetime\n",
    "- company\n",
    "- self_transfer\n",
    "- fare_is_change_allowed\n",
    "- fare_is_partially_changeable\n",
    "- fare_is_cancellation_allowed\n",
    "- fare_is_partially_refundable\n"
   ]
  },
  {
   "cell_type": "code",
   "execution_count": 475,
   "metadata": {},
   "outputs": [],
   "source": [
    "flights = itineraries[[\"itinerary_id\",\"origin_airport_entityid\",\"destination_airport_entityid\",\"departure\",\"arrival\",\"company\",\"self_transfer\",\"fare_is_change_allowed\",\"fare_is_partially_changeable\", \"fare_is_cancellation_allowed\",\"fare_is_partially_refundable\"]]"
   ]
  },
  {
   "cell_type": "markdown",
   "metadata": {},
   "source": [
    "### 2.2.3 Flight tables - Flight_prices"
   ]
  },
  {
   "cell_type": "markdown",
   "metadata": {},
   "source": [
    "- price_id PK\n",
    "- itinerary_id FK\n",
    "- query_date\n",
    "- price\n",
    "- price_currency\n",
    "- score"
   ]
  },
  {
   "cell_type": "code",
   "execution_count": 476,
   "metadata": {},
   "outputs": [],
   "source": [
    "flight_prices = itineraries[[\"itinerary_id\",\"query_date\",\"price\",\"price_currency\",\"score\"]]"
   ]
  },
  {
   "cell_type": "markdown",
   "metadata": {},
   "source": [
    "## 2.2 Accommodations"
   ]
  },
  {
   "cell_type": "code",
   "execution_count": 477,
   "metadata": {},
   "outputs": [
    {
     "name": "stdout",
     "output_type": "stream",
     "text": [
      "<class 'pandas.core.frame.DataFrame'>\n",
      "RangeIndex: 233 entries, 0 to 232\n",
      "Data columns (total 28 columns):\n",
      " #   Column                   Non-Null Count  Dtype         \n",
      "---  ------                   --------------  -----         \n",
      " 0   query_date               233 non-null    datetime64[ns]\n",
      " 1   city                     233 non-null    object        \n",
      " 2   checkin                  233 non-null    datetime64[ns]\n",
      " 3   checkout                 233 non-null    datetime64[ns]\n",
      " 4   n_adults_search          233 non-null    object        \n",
      " 5   n_children_search        233 non-null    object        \n",
      " 6   n_rooms_search           233 non-null    object        \n",
      " 7   name                     233 non-null    object        \n",
      " 8   url                      233 non-null    object        \n",
      " 9   price_currency           233 non-null    object        \n",
      " 10  total_price_amount       233 non-null    object        \n",
      " 11  distance_city_center_km  233 non-null    float64       \n",
      " 12  score                    223 non-null    object        \n",
      " 13  n_comments               223 non-null    object        \n",
      " 14  close_to_metro           233 non-null    object        \n",
      " 15  sustainability_cert      233 non-null    object        \n",
      " 16  room_type                233 non-null    object        \n",
      " 17  double_bed               233 non-null    object        \n",
      " 18  single_bed               233 non-null    object        \n",
      " 19  free_cancellation        233 non-null    object        \n",
      " 20  breakfast_included       233 non-null    object        \n",
      " 21  pay_at_hotel             233 non-null    object        \n",
      " 22  location_score           55 non-null     object        \n",
      " 23  free_taxi                233 non-null    object        \n",
      " 24  standardized_room_type   233 non-null    object        \n",
      " 25  shared_bathroom          233 non-null    object        \n",
      " 26  balcony                  233 non-null    object        \n",
      " 27  price_night              233 non-null    float64       \n",
      "dtypes: datetime64[ns](3), float64(2), object(23)\n",
      "memory usage: 51.1+ KB\n"
     ]
    }
   ],
   "source": [
    "accommodations_df = pd.read_parquet(\"../data/accommodations/transformed/booking.parquet\")\n",
    "accommodations_df.info()"
   ]
  },
  {
   "cell_type": "markdown",
   "metadata": {},
   "source": [
    "Booking places"
   ]
  },
  {
   "cell_type": "markdown",
   "metadata": {},
   "source": [
    "- place_id PK\n",
    "- city_name FK\n",
    "- name\n",
    "- url\n",
    "- distance_city_center_km\n",
    "- score\n",
    "- n_comments\n",
    "- close_to_metro\n",
    "- sustainability_cert\n",
    "- location_score"
   ]
  },
  {
   "cell_type": "code",
   "execution_count": 478,
   "metadata": {},
   "outputs": [],
   "source": [
    "booking_places = accommodations_df[[\"city\",\"name\",\"url\",\"distance_city_center_km\",\"score\",\"n_comments\",\"close_to_metro\",\"sustainability_cert\",\"location_score\"]]"
   ]
  },
  {
   "cell_type": "markdown",
   "metadata": {},
   "source": [
    "Accommodations"
   ]
  },
  {
   "cell_type": "markdown",
   "metadata": {},
   "source": [
    "- accommodation_id PK\n",
    "- place_id PK\n",
    "- room_type\n",
    "- standardized_room_type\n",
    "- double_bed\n",
    "- single_bed\n",
    "- shared_bathroom\n",
    "- balcony"
   ]
  },
  {
   "cell_type": "code",
   "execution_count": 479,
   "metadata": {},
   "outputs": [],
   "source": [
    "accommodations = accommodations_df[[\"room_type\",\"standardized_room_type\",\"double_bed\",\"single_bed\",\"shared_bathroom\",\"balcony\"]]"
   ]
  },
  {
   "cell_type": "markdown",
   "metadata": {},
   "source": [
    "Prices\n",
    "- price_id PK\n",
    "- accommodation_id FK\n",
    "- query_date\n",
    "- checkin\n",
    "- checkout\n",
    "- n_adults\n",
    "- n_children\n",
    "- n_rooms\n",
    "- price_night\n",
    "- price_currency\n",
    "- free_cancellation\n",
    "- pay_at_hotel\n",
    "- free_taxi"
   ]
  },
  {
   "cell_type": "code",
   "execution_count": 480,
   "metadata": {},
   "outputs": [
    {
     "data": {
      "text/plain": [
       "Index(['query_date', 'city', 'checkin', 'checkout', 'n_adults_search',\n",
       "       'n_children_search', 'n_rooms_search', 'name', 'url', 'price_currency',\n",
       "       'total_price_amount', 'distance_city_center_km', 'score', 'n_comments',\n",
       "       'close_to_metro', 'sustainability_cert', 'room_type', 'double_bed',\n",
       "       'single_bed', 'free_cancellation', 'breakfast_included', 'pay_at_hotel',\n",
       "       'location_score', 'free_taxi', 'standardized_room_type',\n",
       "       'shared_bathroom', 'balcony', 'price_night'],\n",
       "      dtype='object')"
      ]
     },
     "execution_count": 480,
     "metadata": {},
     "output_type": "execute_result"
    }
   ],
   "source": [
    "accommodations_df.columns"
   ]
  },
  {
   "cell_type": "code",
   "execution_count": 481,
   "metadata": {},
   "outputs": [],
   "source": [
    "accommodation_prices = accommodations_df[[\"query_date\",\"checkin\",\"checkout\",\"n_adults_search\",\"n_children_search\",\"n_rooms_search\",\"price_night\",\"price_currency\",\"free_cancellation\",\"pay_at_hotel\",\"free_taxi\"]]"
   ]
  },
  {
   "cell_type": "markdown",
   "metadata": {},
   "source": [
    "## 2.3 Activities and availability"
   ]
  },
  {
   "cell_type": "code",
   "execution_count": 482,
   "metadata": {},
   "outputs": [
    {
     "data": {
      "text/html": [
       "<div>\n",
       "<style scoped>\n",
       "    .dataframe tbody tr th:only-of-type {\n",
       "        vertical-align: middle;\n",
       "    }\n",
       "\n",
       "    .dataframe tbody tr th {\n",
       "        vertical-align: top;\n",
       "    }\n",
       "\n",
       "    .dataframe thead th {\n",
       "        text-align: right;\n",
       "    }\n",
       "</style>\n",
       "<table border=\"1\" class=\"dataframe\">\n",
       "  <thead>\n",
       "    <tr style=\"text-align: right;\">\n",
       "      <th></th>\n",
       "      <th>query_date</th>\n",
       "      <th>city</th>\n",
       "      <th>activity_date_range_start</th>\n",
       "      <th>activity_date_range_end</th>\n",
       "      <th>activity_name</th>\n",
       "      <th>description</th>\n",
       "      <th>url</th>\n",
       "      <th>image</th>\n",
       "      <th>available_days</th>\n",
       "      <th>available_times</th>\n",
       "      <th>duration</th>\n",
       "      <th>latitude</th>\n",
       "      <th>longitude</th>\n",
       "      <th>price</th>\n",
       "      <th>currency</th>\n",
       "      <th>category</th>\n",
       "      <th>spanish</th>\n",
       "      <th>address</th>\n",
       "    </tr>\n",
       "  </thead>\n",
       "  <tbody>\n",
       "    <tr>\n",
       "      <th>0</th>\n",
       "      <td>2024-11-03 12:47:29.458558</td>\n",
       "      <td>barcelona</td>\n",
       "      <td>2024-11-28</td>\n",
       "      <td>2024-12-04</td>\n",
       "      <td>Tour privado por Barcelona ¡Tú eliges!</td>\n",
       "      <td>Reservando nuestra visita privada tendréis un ...</td>\n",
       "      <td>www.civitatis.com/es/barcelona/tour-privado-ba...</td>\n",
       "      <td>www.civitatis.com/f/espana/barcelona/tour-priv...</td>\n",
       "      <td>[30, 29, 02, 03, 01, 28, 04]</td>\n",
       "      <td>[[9:00, 10:00, 11:00, 12:00, 13:00, 14:00, 15:...</td>\n",
       "      <td>2h 30m -5h</td>\n",
       "      <td>0</td>\n",
       "      <td>0</td>\n",
       "      <td>40.00</td>\n",
       "      <td>EUR</td>\n",
       "      <td>Visitas guiadas y free tours</td>\n",
       "      <td>Español</td>\n",
       "      <td>Address not found</td>\n",
       "    </tr>\n",
       "    <tr>\n",
       "      <th>1</th>\n",
       "      <td>2024-11-03 12:47:29.464586</td>\n",
       "      <td>barcelona</td>\n",
       "      <td>2024-11-28</td>\n",
       "      <td>2024-12-04</td>\n",
       "      <td>Excursión a Montserrat + Visita a una bodega</td>\n",
       "      <td>En esta excursión a Montserrat no solo disfrut...</td>\n",
       "      <td>www.civitatis.com/es/barcelona/tour-tapas-vino...</td>\n",
       "      <td>www.civitatis.com/f/espana/barcelona/tour-tapa...</td>\n",
       "      <td>[04, 30, 28, 03, 02, 01, 29]</td>\n",
       "      <td>[[8:45], [8:45], [8:45], [8:45], [8:45], [8:45...</td>\n",
       "      <td>7h 30m</td>\n",
       "      <td>41.3940236912484</td>\n",
       "      <td>2.181866082214644</td>\n",
       "      <td>19.98</td>\n",
       "      <td>EUR</td>\n",
       "      <td>Gastronomía y enoturismo</td>\n",
       "      <td>Español</td>\n",
       "      <td>Barcelona (Bus Terminal Nord), Eixample, 08013...</td>\n",
       "    </tr>\n",
       "    <tr>\n",
       "      <th>2</th>\n",
       "      <td>2024-11-03 12:47:29.468587</td>\n",
       "      <td>barcelona</td>\n",
       "      <td>2024-11-28</td>\n",
       "      <td>2024-12-04</td>\n",
       "      <td>Paseo en catamarán al atardecer con música en ...</td>\n",
       "      <td>Contempla el skyline de Barcelona mientras dis...</td>\n",
       "      <td>www.civitatis.com/es/barcelona/paseo-catamaran...</td>\n",
       "      <td>www.civitatis.com/f/espana/barcelona/paseo-cat...</td>\n",
       "      <td>[30, 29, 01, 04, 28, 02, 03]</td>\n",
       "      <td>[[16:30], [16:30], [16:30], [16:30], [16:30], ...</td>\n",
       "      <td>1h 30m</td>\n",
       "      <td>41.37495867288118</td>\n",
       "      <td>2.17849589524371</td>\n",
       "      <td>7.65</td>\n",
       "      <td>EUR</td>\n",
       "      <td>Paseos en barco</td>\n",
       "      <td>Español</td>\n",
       "      <td>Moll de les Drassanes, 3P, Ciutat Vella, 08039...</td>\n",
       "    </tr>\n",
       "  </tbody>\n",
       "</table>\n",
       "</div>"
      ],
      "text/plain": [
       "                  query_date       city activity_date_range_start  \\\n",
       "0 2024-11-03 12:47:29.458558  barcelona                2024-11-28   \n",
       "1 2024-11-03 12:47:29.464586  barcelona                2024-11-28   \n",
       "2 2024-11-03 12:47:29.468587  barcelona                2024-11-28   \n",
       "\n",
       "  activity_date_range_end                                      activity_name  \\\n",
       "0              2024-12-04             Tour privado por Barcelona ¡Tú eliges!   \n",
       "1              2024-12-04       Excursión a Montserrat + Visita a una bodega   \n",
       "2              2024-12-04  Paseo en catamarán al atardecer con música en ...   \n",
       "\n",
       "                                         description  \\\n",
       "0  Reservando nuestra visita privada tendréis un ...   \n",
       "1  En esta excursión a Montserrat no solo disfrut...   \n",
       "2  Contempla el skyline de Barcelona mientras dis...   \n",
       "\n",
       "                                                 url  \\\n",
       "0  www.civitatis.com/es/barcelona/tour-privado-ba...   \n",
       "1  www.civitatis.com/es/barcelona/tour-tapas-vino...   \n",
       "2  www.civitatis.com/es/barcelona/paseo-catamaran...   \n",
       "\n",
       "                                               image  \\\n",
       "0  www.civitatis.com/f/espana/barcelona/tour-priv...   \n",
       "1  www.civitatis.com/f/espana/barcelona/tour-tapa...   \n",
       "2  www.civitatis.com/f/espana/barcelona/paseo-cat...   \n",
       "\n",
       "                 available_days  \\\n",
       "0  [30, 29, 02, 03, 01, 28, 04]   \n",
       "1  [04, 30, 28, 03, 02, 01, 29]   \n",
       "2  [30, 29, 01, 04, 28, 02, 03]   \n",
       "\n",
       "                                     available_times    duration  \\\n",
       "0  [[9:00, 10:00, 11:00, 12:00, 13:00, 14:00, 15:...  2h 30m -5h   \n",
       "1  [[8:45], [8:45], [8:45], [8:45], [8:45], [8:45...      7h 30m   \n",
       "2  [[16:30], [16:30], [16:30], [16:30], [16:30], ...      1h 30m   \n",
       "\n",
       "            latitude          longitude  price currency  \\\n",
       "0                  0                  0  40.00      EUR   \n",
       "1   41.3940236912484  2.181866082214644  19.98      EUR   \n",
       "2  41.37495867288118   2.17849589524371   7.65      EUR   \n",
       "\n",
       "                       category  spanish  \\\n",
       "0  Visitas guiadas y free tours  Español   \n",
       "1      Gastronomía y enoturismo  Español   \n",
       "2               Paseos en barco  Español   \n",
       "\n",
       "                                             address  \n",
       "0                                  Address not found  \n",
       "1  Barcelona (Bus Terminal Nord), Eixample, 08013...  \n",
       "2  Moll de les Drassanes, 3P, Ciutat Vella, 08039...  "
      ]
     },
     "execution_count": 482,
     "metadata": {},
     "output_type": "execute_result"
    }
   ],
   "source": [
    "activities = pd.read_parquet(\"../data/activities/transformed/activities.parquet\")\n",
    "availabilities = pd.read_parquet(\"../data/activities/transformed/availabilities.parquet\")\n",
    "activities.head(3)"
   ]
  },
  {
   "cell_type": "code",
   "execution_count": 483,
   "metadata": {},
   "outputs": [
    {
     "data": {
      "text/html": [
       "<div>\n",
       "<style scoped>\n",
       "    .dataframe tbody tr th:only-of-type {\n",
       "        vertical-align: middle;\n",
       "    }\n",
       "\n",
       "    .dataframe tbody tr th {\n",
       "        vertical-align: top;\n",
       "    }\n",
       "\n",
       "    .dataframe thead th {\n",
       "        text-align: right;\n",
       "    }\n",
       "</style>\n",
       "<table border=\"1\" class=\"dataframe\">\n",
       "  <thead>\n",
       "    <tr style=\"text-align: right;\">\n",
       "      <th></th>\n",
       "      <th>query_date</th>\n",
       "      <th>available_times</th>\n",
       "      <th>city</th>\n",
       "      <th>activity_name</th>\n",
       "      <th>activity_date_range_start</th>\n",
       "      <th>activity_date_range_end</th>\n",
       "      <th>available_date</th>\n",
       "    </tr>\n",
       "  </thead>\n",
       "  <tbody>\n",
       "    <tr>\n",
       "      <th>0</th>\n",
       "      <td>2024-11-03 12:47:29.458558</td>\n",
       "      <td>09:00:00</td>\n",
       "      <td>barcelona</td>\n",
       "      <td>Tour privado por Barcelona ¡Tú eliges!</td>\n",
       "      <td>2024-11-28</td>\n",
       "      <td>2024-12-04</td>\n",
       "      <td>2024-11-30</td>\n",
       "    </tr>\n",
       "    <tr>\n",
       "      <th>0</th>\n",
       "      <td>2024-11-03 12:47:29.458558</td>\n",
       "      <td>10:00:00</td>\n",
       "      <td>barcelona</td>\n",
       "      <td>Tour privado por Barcelona ¡Tú eliges!</td>\n",
       "      <td>2024-11-28</td>\n",
       "      <td>2024-12-04</td>\n",
       "      <td>2024-11-30</td>\n",
       "    </tr>\n",
       "    <tr>\n",
       "      <th>0</th>\n",
       "      <td>2024-11-03 12:47:29.458558</td>\n",
       "      <td>11:00:00</td>\n",
       "      <td>barcelona</td>\n",
       "      <td>Tour privado por Barcelona ¡Tú eliges!</td>\n",
       "      <td>2024-11-28</td>\n",
       "      <td>2024-12-04</td>\n",
       "      <td>2024-11-30</td>\n",
       "    </tr>\n",
       "  </tbody>\n",
       "</table>\n",
       "</div>"
      ],
      "text/plain": [
       "                  query_date available_times       city  \\\n",
       "0 2024-11-03 12:47:29.458558        09:00:00  barcelona   \n",
       "0 2024-11-03 12:47:29.458558        10:00:00  barcelona   \n",
       "0 2024-11-03 12:47:29.458558        11:00:00  barcelona   \n",
       "\n",
       "                            activity_name activity_date_range_start  \\\n",
       "0  Tour privado por Barcelona ¡Tú eliges!                2024-11-28   \n",
       "0  Tour privado por Barcelona ¡Tú eliges!                2024-11-28   \n",
       "0  Tour privado por Barcelona ¡Tú eliges!                2024-11-28   \n",
       "\n",
       "  activity_date_range_end available_date  \n",
       "0              2024-12-04     2024-11-30  \n",
       "0              2024-12-04     2024-11-30  \n",
       "0              2024-12-04     2024-11-30  "
      ]
     },
     "execution_count": 483,
     "metadata": {},
     "output_type": "execute_result"
    }
   ],
   "source": [
    "availabilities.head(3)"
   ]
  },
  {
   "cell_type": "markdown",
   "metadata": {},
   "source": [
    "The activites have persistent information in their name, description, url, image, duration, latitude, longitude, category, spanish (language) and address. Thus, it makes for one single table of the database."
   ]
  },
  {
   "cell_type": "markdown",
   "metadata": {},
   "source": [
    "### Activities table"
   ]
  },
  {
   "cell_type": "markdown",
   "metadata": {},
   "source": [
    "- activity_id PK\n",
    "- activity_name\n",
    "- city\n",
    "- description\n",
    "- url\n",
    "- image\n",
    "- duration\n",
    "- latitude\n",
    "- longitude\n",
    "- category\n",
    "- spanish\n",
    "- address"
   ]
  },
  {
   "cell_type": "code",
   "execution_count": 484,
   "metadata": {},
   "outputs": [],
   "source": [
    "activities_table = activities[[\"activity_name\",\"city\",\"description\",\"url\",\"image\",\"duration\",\"latitude\",\"longitude\",\"category\",\"spanish\",\"address\"]]"
   ]
  },
  {
   "cell_type": "markdown",
   "metadata": {},
   "source": [
    "Then, there is more time dependant informations about them, which are:\n",
    "- Available date and time\n",
    "- Price\n",
    "\n",
    "Both of these are bound to query time, as prices and availabilities are subject to change, due to possible offers or changes in demand. following the rules of normalisation, they represent 2 separate tables to avoid duplicities in information."
   ]
  },
  {
   "cell_type": "markdown",
   "metadata": {},
   "source": [
    "#### Activities_prices"
   ]
  },
  {
   "cell_type": "markdown",
   "metadata": {},
   "source": [
    "The price_id will be serial."
   ]
  },
  {
   "cell_type": "markdown",
   "metadata": {},
   "source": [
    "- price_id PK\n",
    "- activity_id FK\n",
    "- query_date\n",
    "- price\n",
    "- currency"
   ]
  },
  {
   "cell_type": "markdown",
   "metadata": {},
   "source": [
    "The table will need the activity name and city to check for the activity_id in the database, and then map the ids to the table to upload it all.\n",
    "\n",
    "If streamlined, it will have to do that activity by activity."
   ]
  },
  {
   "cell_type": "code",
   "execution_count": 485,
   "metadata": {},
   "outputs": [],
   "source": [
    "activities_prices = activities[[\"activity_name\",\"city\",\"query_date\",\"price\",\"currency\"]]"
   ]
  },
  {
   "cell_type": "markdown",
   "metadata": {},
   "source": [
    "#### Activities_availabilities"
   ]
  },
  {
   "cell_type": "markdown",
   "metadata": {},
   "source": [
    "- schedule_id PK\n",
    "- activity_id FK\n",
    "- query_date\n",
    "- available_date\n",
    "- available_time"
   ]
  },
  {
   "cell_type": "code",
   "execution_count": 486,
   "metadata": {},
   "outputs": [
    {
     "data": {
      "text/html": [
       "<div>\n",
       "<style scoped>\n",
       "    .dataframe tbody tr th:only-of-type {\n",
       "        vertical-align: middle;\n",
       "    }\n",
       "\n",
       "    .dataframe tbody tr th {\n",
       "        vertical-align: top;\n",
       "    }\n",
       "\n",
       "    .dataframe thead th {\n",
       "        text-align: right;\n",
       "    }\n",
       "</style>\n",
       "<table border=\"1\" class=\"dataframe\">\n",
       "  <thead>\n",
       "    <tr style=\"text-align: right;\">\n",
       "      <th></th>\n",
       "      <th>query_date</th>\n",
       "      <th>available_times</th>\n",
       "      <th>city</th>\n",
       "      <th>activity_name</th>\n",
       "      <th>activity_date_range_start</th>\n",
       "      <th>activity_date_range_end</th>\n",
       "      <th>available_date</th>\n",
       "    </tr>\n",
       "  </thead>\n",
       "  <tbody>\n",
       "    <tr>\n",
       "      <th>0</th>\n",
       "      <td>2024-11-03 12:47:29.458558</td>\n",
       "      <td>09:00:00</td>\n",
       "      <td>barcelona</td>\n",
       "      <td>Tour privado por Barcelona ¡Tú eliges!</td>\n",
       "      <td>2024-11-28</td>\n",
       "      <td>2024-12-04</td>\n",
       "      <td>2024-11-30</td>\n",
       "    </tr>\n",
       "    <tr>\n",
       "      <th>0</th>\n",
       "      <td>2024-11-03 12:47:29.458558</td>\n",
       "      <td>10:00:00</td>\n",
       "      <td>barcelona</td>\n",
       "      <td>Tour privado por Barcelona ¡Tú eliges!</td>\n",
       "      <td>2024-11-28</td>\n",
       "      <td>2024-12-04</td>\n",
       "      <td>2024-11-30</td>\n",
       "    </tr>\n",
       "    <tr>\n",
       "      <th>0</th>\n",
       "      <td>2024-11-03 12:47:29.458558</td>\n",
       "      <td>11:00:00</td>\n",
       "      <td>barcelona</td>\n",
       "      <td>Tour privado por Barcelona ¡Tú eliges!</td>\n",
       "      <td>2024-11-28</td>\n",
       "      <td>2024-12-04</td>\n",
       "      <td>2024-11-30</td>\n",
       "    </tr>\n",
       "    <tr>\n",
       "      <th>0</th>\n",
       "      <td>2024-11-03 12:47:29.458558</td>\n",
       "      <td>12:00:00</td>\n",
       "      <td>barcelona</td>\n",
       "      <td>Tour privado por Barcelona ¡Tú eliges!</td>\n",
       "      <td>2024-11-28</td>\n",
       "      <td>2024-12-04</td>\n",
       "      <td>2024-11-30</td>\n",
       "    </tr>\n",
       "    <tr>\n",
       "      <th>0</th>\n",
       "      <td>2024-11-03 12:47:29.458558</td>\n",
       "      <td>13:00:00</td>\n",
       "      <td>barcelona</td>\n",
       "      <td>Tour privado por Barcelona ¡Tú eliges!</td>\n",
       "      <td>2024-11-28</td>\n",
       "      <td>2024-12-04</td>\n",
       "      <td>2024-11-30</td>\n",
       "    </tr>\n",
       "    <tr>\n",
       "      <th>...</th>\n",
       "      <td>...</td>\n",
       "      <td>...</td>\n",
       "      <td>...</td>\n",
       "      <td>...</td>\n",
       "      <td>...</td>\n",
       "      <td>...</td>\n",
       "      <td>...</td>\n",
       "    </tr>\n",
       "    <tr>\n",
       "      <th>1177</th>\n",
       "      <td>2024-11-03 12:47:29.615915</td>\n",
       "      <td>None</td>\n",
       "      <td>barcelona</td>\n",
       "      <td>Tour de los misterios y leyendas de Barcelona</td>\n",
       "      <td>2024-12-04</td>\n",
       "      <td>2024-12-10</td>\n",
       "      <td>NaT</td>\n",
       "    </tr>\n",
       "    <tr>\n",
       "      <th>1178</th>\n",
       "      <td>2024-11-03 12:47:29.616916</td>\n",
       "      <td>None</td>\n",
       "      <td>barcelona</td>\n",
       "      <td>Entrada al Spotify Camp Nou</td>\n",
       "      <td>2024-12-04</td>\n",
       "      <td>2024-12-10</td>\n",
       "      <td>NaT</td>\n",
       "    </tr>\n",
       "    <tr>\n",
       "      <th>1179</th>\n",
       "      <td>2024-11-03 12:47:29.617916</td>\n",
       "      <td>None</td>\n",
       "      <td>barcelona</td>\n",
       "      <td>Free tour de los misterios y leyendas del Barr...</td>\n",
       "      <td>2024-12-04</td>\n",
       "      <td>2024-12-10</td>\n",
       "      <td>NaT</td>\n",
       "    </tr>\n",
       "    <tr>\n",
       "      <th>1180</th>\n",
       "      <td>2024-11-03 12:47:29.618916</td>\n",
       "      <td>None</td>\n",
       "      <td>barcelona</td>\n",
       "      <td>Excursión a Gerona, Figueras y Museo Dalí</td>\n",
       "      <td>2024-12-04</td>\n",
       "      <td>2024-12-10</td>\n",
       "      <td>NaT</td>\n",
       "    </tr>\n",
       "    <tr>\n",
       "      <th>1181</th>\n",
       "      <td>2024-11-03 12:47:29.619921</td>\n",
       "      <td>None</td>\n",
       "      <td>barcelona</td>\n",
       "      <td>Entrada a La Pedrera</td>\n",
       "      <td>2024-12-04</td>\n",
       "      <td>2024-12-10</td>\n",
       "      <td>NaT</td>\n",
       "    </tr>\n",
       "  </tbody>\n",
       "</table>\n",
       "<p>2705 rows × 7 columns</p>\n",
       "</div>"
      ],
      "text/plain": [
       "                     query_date available_times       city  \\\n",
       "0    2024-11-03 12:47:29.458558        09:00:00  barcelona   \n",
       "0    2024-11-03 12:47:29.458558        10:00:00  barcelona   \n",
       "0    2024-11-03 12:47:29.458558        11:00:00  barcelona   \n",
       "0    2024-11-03 12:47:29.458558        12:00:00  barcelona   \n",
       "0    2024-11-03 12:47:29.458558        13:00:00  barcelona   \n",
       "...                         ...             ...        ...   \n",
       "1177 2024-11-03 12:47:29.615915            None  barcelona   \n",
       "1178 2024-11-03 12:47:29.616916            None  barcelona   \n",
       "1179 2024-11-03 12:47:29.617916            None  barcelona   \n",
       "1180 2024-11-03 12:47:29.618916            None  barcelona   \n",
       "1181 2024-11-03 12:47:29.619921            None  barcelona   \n",
       "\n",
       "                                          activity_name  \\\n",
       "0                Tour privado por Barcelona ¡Tú eliges!   \n",
       "0                Tour privado por Barcelona ¡Tú eliges!   \n",
       "0                Tour privado por Barcelona ¡Tú eliges!   \n",
       "0                Tour privado por Barcelona ¡Tú eliges!   \n",
       "0                Tour privado por Barcelona ¡Tú eliges!   \n",
       "...                                                 ...   \n",
       "1177      Tour de los misterios y leyendas de Barcelona   \n",
       "1178                        Entrada al Spotify Camp Nou   \n",
       "1179  Free tour de los misterios y leyendas del Barr...   \n",
       "1180          Excursión a Gerona, Figueras y Museo Dalí   \n",
       "1181                               Entrada a La Pedrera   \n",
       "\n",
       "     activity_date_range_start activity_date_range_end available_date  \n",
       "0                   2024-11-28              2024-12-04     2024-11-30  \n",
       "0                   2024-11-28              2024-12-04     2024-11-30  \n",
       "0                   2024-11-28              2024-12-04     2024-11-30  \n",
       "0                   2024-11-28              2024-12-04     2024-11-30  \n",
       "0                   2024-11-28              2024-12-04     2024-11-30  \n",
       "...                        ...                     ...            ...  \n",
       "1177                2024-12-04              2024-12-10            NaT  \n",
       "1178                2024-12-04              2024-12-10            NaT  \n",
       "1179                2024-12-04              2024-12-10            NaT  \n",
       "1180                2024-12-04              2024-12-10            NaT  \n",
       "1181                2024-12-04              2024-12-10            NaT  \n",
       "\n",
       "[2705 rows x 7 columns]"
      ]
     },
     "execution_count": 486,
     "metadata": {},
     "output_type": "execute_result"
    }
   ],
   "source": [
    "availabilities"
   ]
  },
  {
   "cell_type": "code",
   "execution_count": 487,
   "metadata": {},
   "outputs": [],
   "source": [
    "activities_schedules = availabilities[[\"activity_name\",\"city\",\"query_date\",\"available_date\",\"available_times\"]]"
   ]
  },
  {
   "cell_type": "markdown",
   "metadata": {},
   "source": [
    "Cities"
   ]
  },
  {
   "cell_type": "markdown",
   "metadata": {},
   "source": [
    "# 3. Database creation"
   ]
  },
  {
   "cell_type": "markdown",
   "metadata": {},
   "source": [
    "## 3.1 Database creation - database"
   ]
  },
  {
   "cell_type": "code",
   "execution_count": 488,
   "metadata": {},
   "outputs": [],
   "source": [
    "database_credentials = {\"username\":USERNAME,\n",
    "                        \"password\":PASSWORD,\n",
    "                        }"
   ]
  },
  {
   "cell_type": "code",
   "execution_count": 489,
   "metadata": {},
   "outputs": [
    {
     "name": "stdout",
     "output_type": "stream",
     "text": [
      "Database already existant.\n"
     ]
    }
   ],
   "source": [
    "dls.create_db(\"travel_planner\", credentials_dict=database_credentials)"
   ]
  },
  {
   "cell_type": "markdown",
   "metadata": {},
   "source": [
    "## 3.2 Database creation - tables"
   ]
  },
  {
   "cell_type": "code",
   "execution_count": 513,
   "metadata": {},
   "outputs": [],
   "source": [
    "drop_tables = \"DROP TABLE IF EXISTS cities, airports, flights, flight_prices, booking_places, accommodations, accommodation_prices, activities, activity_prices, activity_availabilities CASCADE;\"\n",
    "\n",
    "create_cities = \"\"\"\n",
    "CREATE TABLE cities (\n",
    "    city_entityid SERIAL PRIMARY KEY,\n",
    "    city_name VARCHAR(255) NOT NULL,\n",
    "    country VARCHAR(100)\n",
    ");\n",
    "\"\"\"\n",
    "\n",
    "create_airports = \"\"\"\n",
    "CREATE TABLE airports (\n",
    "    airport_entityid SERIAL PRIMARY KEY,\n",
    "    airport_skyid VARCHAR(10) NOT NULL,\n",
    "    airport_name VARCHAR(255) NOT NULL,\n",
    "    city_entityid INT REFERENCES cities(city_entityid) ON DELETE SET NULL\n",
    ");\n",
    "\"\"\"\n",
    "\n",
    "create_flights = \"\"\"\n",
    "CREATE TABLE flights (\n",
    "    itinerary_id VARCHAR(255) PRIMARY KEY,\n",
    "    origin_airport_entityid INT REFERENCES airports(airport_entityid),\n",
    "    destination_airport_entityid INT REFERENCES airports(airport_entityid),\n",
    "    departure_datetime TIMESTAMP NOT NULL,\n",
    "    arrival_datetime TIMESTAMP NOT NULL,\n",
    "    company VARCHAR(100),\n",
    "    self_transfer BOOLEAN,\n",
    "    fare_is_change_allowed BOOLEAN,\n",
    "    fare_is_partially_changeable BOOLEAN,\n",
    "\tfare_is_cancellation_allowed BOOLEAN,\n",
    "\tfare_is_partially_refundable BOOLEAN\n",
    ");\n",
    "\"\"\"\n",
    "\n",
    "create_flight_prices = \"\"\"\n",
    "CREATE TABLE flight_prices (\n",
    "    price_id SERIAL PRIMARY KEY,\n",
    "    itinerary_id VARCHAR(255) REFERENCES flights(itinerary_id),\n",
    "    query_date TIMESTAMP NOT NULL,\n",
    "    price NUMERIC NOT NULL,\n",
    "    price_currency VARCHAR(10) NOT NULL,\n",
    "    score NUMERIC\n",
    ");\n",
    "\"\"\"\n",
    "\n",
    "create_booking_places = \"\"\"\n",
    "CREATE TABLE booking_places (\n",
    "    place_id SERIAL PRIMARY KEY,\n",
    "    city_entityid INT REFERENCES cities(city_entityid) ON DELETE SET NULL,\n",
    "    name VARCHAR(255) NOT NULL,\n",
    "    url VARCHAR(255),\n",
    "    distance_city_center_km NUMERIC,\n",
    "    score NUMERIC,\n",
    "    n_comments INT,\n",
    "    close_to_metro BOOLEAN,\n",
    "    sustainability_cert BOOLEAN,\n",
    "    location_score NUMERIC\n",
    ");\n",
    "\"\"\"\n",
    "\n",
    "create_accommodations = \"\"\"\n",
    "CREATE TABLE accommodations (\n",
    "    accommodation_id SERIAL PRIMARY KEY,\n",
    "    place_id INT REFERENCES booking_places(place_id),\n",
    "    room_type VARCHAR(100),\n",
    "    standardized_room_type VARCHAR(100),\n",
    "    double_bed INT DEFAULT 0,\n",
    "    single_bed INT DEFAULT 0,\n",
    "    shared_bathroom BOOLEAN,\n",
    "    balcony BOOLEAN\n",
    ");\n",
    "\"\"\"\n",
    "\n",
    "create_accommodation_prices = \"\"\"\n",
    "CREATE TABLE accommodation_prices (\n",
    "    price_id SERIAL PRIMARY KEY,\n",
    "    accommodation_id INT REFERENCES accommodations(accommodation_id),\n",
    "    query_date TIMESTAMP NOT NULL,\n",
    "    checkin DATE NOT NULL,\n",
    "    checkout DATE NOT NULL,\n",
    "    n_adults INT NOT NULL,\n",
    "    n_children INT DEFAULT 0,\n",
    "    n_rooms INT NOT NULL,\n",
    "    price_night NUMERIC NOT NULL,\n",
    "    price_currency VARCHAR(4) NOT NULL,\n",
    "    free_cancellation BOOLEAN,\n",
    "    pay_at_hotel BOOLEAN,\n",
    "    free_taxi BOOLEAN\n",
    ");\n",
    "\"\"\"\n",
    "\n",
    "create_activities = \"\"\"\n",
    "CREATE TABLE activities (\n",
    "    activity_id SERIAL PRIMARY KEY,\n",
    "    activity_name VARCHAR(500) NOT NULL,\n",
    "    city_entityid INT REFERENCES cities(city_entityid) ON DELETE SET NULL,\n",
    "    description TEXT,\n",
    "    url VARCHAR(500),\n",
    "    image VARCHAR(500),\n",
    "    duration VARCHAR(30),\n",
    "    latitude NUMERIC,\n",
    "    longitude NUMERIC,\n",
    "    category VARCHAR(100),\n",
    "    spanish VARCHAR(30),\n",
    "    address VARCHAR(500)\n",
    ");\n",
    "\"\"\"\n",
    "\n",
    "create_activity_prices = \"\"\"\n",
    "CREATE TABLE activity_prices (\n",
    "    price_id SERIAL PRIMARY KEY,\n",
    "    activity_id INT REFERENCES activities(activity_id) ON DELETE CASCADE,\n",
    "    query_date DATE NOT NULL,\n",
    "    price NUMERIC NOT NULL,\n",
    "    currency VARCHAR(4) NOT NULL\n",
    ");\n",
    "\"\"\"\n",
    "\n",
    "create_activity_availabilities = \"\"\"\n",
    "CREATE TABLE activity_availabilities (\n",
    "    schedule_id SERIAL PRIMARY KEY,\n",
    "    activity_id INT REFERENCES activities(activity_id) ON DELETE CASCADE,\n",
    "    query_date TIMESTAMP NOT NULL,\n",
    "    available_date DATE NOT NULL,\n",
    "    available_time TIME NOT NULL\n",
    ");\n",
    "\"\"\"\n"
   ]
  },
  {
   "cell_type": "code",
   "execution_count": 514,
   "metadata": {},
   "outputs": [],
   "source": [
    "create_table_queries = [\n",
    "    drop_tables,\n",
    "    create_cities,\n",
    "    create_airports,\n",
    "    create_flights,\n",
    "    create_flight_prices,\n",
    "    create_booking_places,\n",
    "    create_accommodations,\n",
    "    create_accommodation_prices,\n",
    "    create_activities,\n",
    "    create_activity_prices,\n",
    "    create_activity_availabilities\n",
    "]"
   ]
  },
  {
   "cell_type": "code",
   "execution_count": 515,
   "metadata": {},
   "outputs": [],
   "source": [
    "conn = dcs.connect_to_database(\"travel_planner\", credentials_dict=database_credentials, autocommit=True)\n",
    "\n",
    "# drop all tables and create:\n",
    "for query in create_table_queries:\n",
    "    conn.cursor().execute(query)"
   ]
  },
  {
   "cell_type": "markdown",
   "metadata": {},
   "source": [
    "## 3.3 Database creation - batch table insert"
   ]
  },
  {
   "cell_type": "markdown",
   "metadata": {},
   "source": [
    "### 3.3.1 Cities"
   ]
  },
  {
   "cell_type": "code",
   "execution_count": 516,
   "metadata": {},
   "outputs": [],
   "source": [
    "create_cities = \"\"\"\n",
    "CREATE TABLE cities (\n",
    "    city_entityid SERIAL PRIMARY KEY,\n",
    "    city_name VARCHAR(255) NOT NULL,\n",
    "    country VARCHAR(100)\n",
    ");\n",
    "\"\"\""
   ]
  },
  {
   "cell_type": "code",
   "execution_count": 517,
   "metadata": {},
   "outputs": [
    {
     "data": {
      "text/html": [
       "<div>\n",
       "<style scoped>\n",
       "    .dataframe tbody tr th:only-of-type {\n",
       "        vertical-align: middle;\n",
       "    }\n",
       "\n",
       "    .dataframe tbody tr th {\n",
       "        vertical-align: top;\n",
       "    }\n",
       "\n",
       "    .dataframe thead th {\n",
       "        text-align: right;\n",
       "    }\n",
       "</style>\n",
       "<table border=\"1\" class=\"dataframe\">\n",
       "  <thead>\n",
       "    <tr style=\"text-align: right;\">\n",
       "      <th></th>\n",
       "      <th>country</th>\n",
       "      <th>city_name</th>\n",
       "      <th>city_entityid</th>\n",
       "    </tr>\n",
       "  </thead>\n",
       "  <tbody>\n",
       "    <tr>\n",
       "      <th>0</th>\n",
       "      <td>spain</td>\n",
       "      <td>madrid</td>\n",
       "      <td>27544850</td>\n",
       "    </tr>\n",
       "    <tr>\n",
       "      <th>1</th>\n",
       "      <td>spain</td>\n",
       "      <td>barcelona</td>\n",
       "      <td>27548283</td>\n",
       "    </tr>\n",
       "    <tr>\n",
       "      <th>2</th>\n",
       "      <td>spain</td>\n",
       "      <td>port of spain</td>\n",
       "      <td>27546011</td>\n",
       "    </tr>\n",
       "  </tbody>\n",
       "</table>\n",
       "</div>"
      ],
      "text/plain": [
       "  country      city_name  city_entityid\n",
       "0   spain         madrid       27544850\n",
       "1   spain      barcelona       27548283\n",
       "2   spain  port of spain       27546011"
      ]
     },
     "execution_count": 517,
     "metadata": {},
     "output_type": "execute_result"
    }
   ],
   "source": [
    "cities.head(3)"
   ]
  },
  {
   "cell_type": "code",
   "execution_count": 518,
   "metadata": {},
   "outputs": [],
   "source": [
    "conn.cursor().executemany(\n",
    "\"INSERT INTO cities (country, city_name, city_entityid) VALUES (%s,%s,%s)\",\n",
    "list(cities.itertuples(index=False, name=None))\n",
    ")"
   ]
  },
  {
   "cell_type": "markdown",
   "metadata": {},
   "source": [
    "### 3.3.2 Airports"
   ]
  },
  {
   "cell_type": "code",
   "execution_count": 519,
   "metadata": {},
   "outputs": [],
   "source": [
    "create_airports = \"\"\"\n",
    "CREATE TABLE airports (\n",
    "    airport_entityid SERIAL PRIMARY KEY,\n",
    "    airport_skyid VARCHAR(10) NOT NULL,\n",
    "    airport_name VARCHAR(255) NOT NULL,\n",
    "    city_entityid INT REFERENCES cities(city_entityid) ON DELETE SET NULL\n",
    ");\n",
    "\"\"\""
   ]
  },
  {
   "cell_type": "code",
   "execution_count": 520,
   "metadata": {},
   "outputs": [
    {
     "data": {
      "text/html": [
       "<div>\n",
       "<style scoped>\n",
       "    .dataframe tbody tr th:only-of-type {\n",
       "        vertical-align: middle;\n",
       "    }\n",
       "\n",
       "    .dataframe tbody tr th {\n",
       "        vertical-align: top;\n",
       "    }\n",
       "\n",
       "    .dataframe thead th {\n",
       "        text-align: right;\n",
       "    }\n",
       "</style>\n",
       "<table border=\"1\" class=\"dataframe\">\n",
       "  <thead>\n",
       "    <tr style=\"text-align: right;\">\n",
       "      <th></th>\n",
       "      <th>airport_entityid</th>\n",
       "      <th>airport_skyid</th>\n",
       "      <th>airport_name</th>\n",
       "      <th>city_entityid</th>\n",
       "    </tr>\n",
       "  </thead>\n",
       "  <tbody>\n",
       "    <tr>\n",
       "      <th>0</th>\n",
       "      <td>95565077</td>\n",
       "      <td>MAD</td>\n",
       "      <td>madrid</td>\n",
       "      <td>27544850</td>\n",
       "    </tr>\n",
       "    <tr>\n",
       "      <th>1</th>\n",
       "      <td>95565085</td>\n",
       "      <td>BCN</td>\n",
       "      <td>barcelona</td>\n",
       "      <td>27548283</td>\n",
       "    </tr>\n",
       "    <tr>\n",
       "      <th>2</th>\n",
       "      <td>104120358</td>\n",
       "      <td>POS</td>\n",
       "      <td>port of spain</td>\n",
       "      <td>27546011</td>\n",
       "    </tr>\n",
       "  </tbody>\n",
       "</table>\n",
       "</div>"
      ],
      "text/plain": [
       "   airport_entityid airport_skyid   airport_name  city_entityid\n",
       "0          95565077           MAD         madrid       27544850\n",
       "1          95565085           BCN      barcelona       27548283\n",
       "2         104120358           POS  port of spain       27546011"
      ]
     },
     "execution_count": 520,
     "metadata": {},
     "output_type": "execute_result"
    }
   ],
   "source": [
    "airports.head(3)"
   ]
  },
  {
   "cell_type": "code",
   "execution_count": 521,
   "metadata": {},
   "outputs": [],
   "source": [
    "conn.cursor().executemany(\n",
    "\"INSERT INTO airports (airport_entityid, airport_skyid, airport_name, city_entityid) VALUES (%s,%s,%s,%s)\",\n",
    "list(airports.itertuples(index=False, name=None))\n",
    ")"
   ]
  },
  {
   "cell_type": "markdown",
   "metadata": {},
   "source": [
    "### 3.3.3 Flights"
   ]
  },
  {
   "cell_type": "code",
   "execution_count": 522,
   "metadata": {},
   "outputs": [],
   "source": [
    "create_flights = \"\"\"\n",
    "CREATE TABLE flights (\n",
    "    itinerary_id VARCHAR(255) PRIMARY KEY,\n",
    "    origin_airport_entityid INT REFERENCES airports(airport_entityid),\n",
    "    destination_airport_entityid INT REFERENCES airports(airport_entityid),\n",
    "    departure_datetime TIMESTAMP NOT NULL,\n",
    "    arrival_datetime TIMESTAMP NOT NULL,\n",
    "    company VARCHAR(100),\n",
    "    self_transfer BOOLEAN,\n",
    "    fare_is_change_allowed BOOLEAN,\n",
    "    fare_is_partially_changeable BOOLEAN,\n",
    "\tfare_is_cancellation_allowed BOOLEAN,\n",
    "\tfare_is_partially_refundable BOOLEAN\n",
    ");\n",
    "\"\"\""
   ]
  },
  {
   "cell_type": "code",
   "execution_count": 523,
   "metadata": {},
   "outputs": [
    {
     "data": {
      "text/html": [
       "<div>\n",
       "<style scoped>\n",
       "    .dataframe tbody tr th:only-of-type {\n",
       "        vertical-align: middle;\n",
       "    }\n",
       "\n",
       "    .dataframe tbody tr th {\n",
       "        vertical-align: top;\n",
       "    }\n",
       "\n",
       "    .dataframe thead th {\n",
       "        text-align: right;\n",
       "    }\n",
       "</style>\n",
       "<table border=\"1\" class=\"dataframe\">\n",
       "  <thead>\n",
       "    <tr style=\"text-align: right;\">\n",
       "      <th></th>\n",
       "      <th>itinerary_id</th>\n",
       "      <th>origin_airport_entityid</th>\n",
       "      <th>destination_airport_entityid</th>\n",
       "      <th>departure</th>\n",
       "      <th>arrival</th>\n",
       "      <th>company</th>\n",
       "      <th>self_transfer</th>\n",
       "      <th>fare_is_change_allowed</th>\n",
       "      <th>fare_is_partially_changeable</th>\n",
       "      <th>fare_is_cancellation_allowed</th>\n",
       "      <th>fare_is_partially_refundable</th>\n",
       "    </tr>\n",
       "  </thead>\n",
       "  <tbody>\n",
       "    <tr>\n",
       "      <th>0</th>\n",
       "      <td>9772-2411031955--32222-0-13870-2411032120</td>\n",
       "      <td>95565085</td>\n",
       "      <td>95565077</td>\n",
       "      <td>2024-11-03 19:55:00</td>\n",
       "      <td>2024-11-03 21:20:00</td>\n",
       "      <td>Iberia</td>\n",
       "      <td>False</td>\n",
       "      <td>False</td>\n",
       "      <td>False</td>\n",
       "      <td>False</td>\n",
       "      <td>False</td>\n",
       "    </tr>\n",
       "    <tr>\n",
       "      <th>1</th>\n",
       "      <td>9772-2411031625--31685-0-13870-2411031745</td>\n",
       "      <td>95565085</td>\n",
       "      <td>95565077</td>\n",
       "      <td>2024-11-03 16:25:00</td>\n",
       "      <td>2024-11-03 17:45:00</td>\n",
       "      <td>Vueling Airlines</td>\n",
       "      <td>False</td>\n",
       "      <td>False</td>\n",
       "      <td>False</td>\n",
       "      <td>False</td>\n",
       "      <td>False</td>\n",
       "    </tr>\n",
       "    <tr>\n",
       "      <th>2</th>\n",
       "      <td>9772-2411031800--32222-0-13870-2411031925</td>\n",
       "      <td>95565085</td>\n",
       "      <td>95565077</td>\n",
       "      <td>2024-11-03 18:00:00</td>\n",
       "      <td>2024-11-03 19:25:00</td>\n",
       "      <td>Iberia</td>\n",
       "      <td>False</td>\n",
       "      <td>False</td>\n",
       "      <td>False</td>\n",
       "      <td>False</td>\n",
       "      <td>False</td>\n",
       "    </tr>\n",
       "  </tbody>\n",
       "</table>\n",
       "</div>"
      ],
      "text/plain": [
       "                                itinerary_id origin_airport_entityid  \\\n",
       "0  9772-2411031955--32222-0-13870-2411032120                95565085   \n",
       "1  9772-2411031625--31685-0-13870-2411031745                95565085   \n",
       "2  9772-2411031800--32222-0-13870-2411031925                95565085   \n",
       "\n",
       "  destination_airport_entityid           departure             arrival  \\\n",
       "0                     95565077 2024-11-03 19:55:00 2024-11-03 21:20:00   \n",
       "1                     95565077 2024-11-03 16:25:00 2024-11-03 17:45:00   \n",
       "2                     95565077 2024-11-03 18:00:00 2024-11-03 19:25:00   \n",
       "\n",
       "            company  self_transfer  fare_is_change_allowed  \\\n",
       "0            Iberia          False                   False   \n",
       "1  Vueling Airlines          False                   False   \n",
       "2            Iberia          False                   False   \n",
       "\n",
       "   fare_is_partially_changeable  fare_is_cancellation_allowed  \\\n",
       "0                         False                         False   \n",
       "1                         False                         False   \n",
       "2                         False                         False   \n",
       "\n",
       "   fare_is_partially_refundable  \n",
       "0                         False  \n",
       "1                         False  \n",
       "2                         False  "
      ]
     },
     "execution_count": 523,
     "metadata": {},
     "output_type": "execute_result"
    }
   ],
   "source": [
    "flights.head(3)"
   ]
  },
  {
   "cell_type": "code",
   "execution_count": 524,
   "metadata": {},
   "outputs": [],
   "source": [
    "conn.cursor().executemany(\n",
    "    \"\"\"\n",
    "    INSERT INTO flights (\n",
    "        itinerary_id, \n",
    "        origin_airport_entityid, \n",
    "        destination_airport_entityid, \n",
    "        departure_datetime, \n",
    "        arrival_datetime, \n",
    "        company, \n",
    "        self_transfer, \n",
    "        fare_is_change_allowed, \n",
    "        fare_is_partially_changeable, \n",
    "        fare_is_cancellation_allowed, \n",
    "        fare_is_partially_refundable\n",
    "    ) VALUES (%s, %s, %s, %s, %s, %s, %s, %s, %s, %s, %s)\n",
    "    \"\"\",\n",
    "    list(flights.itertuples(index=False, name=None))\n",
    ")"
   ]
  },
  {
   "cell_type": "markdown",
   "metadata": {},
   "source": [
    "### 3.3.4 Flight prices"
   ]
  },
  {
   "cell_type": "code",
   "execution_count": 525,
   "metadata": {},
   "outputs": [],
   "source": [
    "create_flight_prices = \"\"\"\n",
    "CREATE TABLE flight_prices (\n",
    "    price_id SERIAL PRIMARY KEY,\n",
    "    itinerary_id VARCHAR(255) REFERENCES flights(itinerary_id),\n",
    "    query_date TIMESTAMP NOT NULL,\n",
    "    price NUMERIC NOT NULL,\n",
    "    price_currency VARCHAR(10) NOT NULL,\n",
    "    score NUMERIC\n",
    ");\n",
    "\"\"\""
   ]
  },
  {
   "cell_type": "code",
   "execution_count": 526,
   "metadata": {},
   "outputs": [
    {
     "data": {
      "text/html": [
       "<div>\n",
       "<style scoped>\n",
       "    .dataframe tbody tr th:only-of-type {\n",
       "        vertical-align: middle;\n",
       "    }\n",
       "\n",
       "    .dataframe tbody tr th {\n",
       "        vertical-align: top;\n",
       "    }\n",
       "\n",
       "    .dataframe thead th {\n",
       "        text-align: right;\n",
       "    }\n",
       "</style>\n",
       "<table border=\"1\" class=\"dataframe\">\n",
       "  <thead>\n",
       "    <tr style=\"text-align: right;\">\n",
       "      <th></th>\n",
       "      <th>itinerary_id</th>\n",
       "      <th>query_date</th>\n",
       "      <th>price</th>\n",
       "      <th>price_currency</th>\n",
       "      <th>score</th>\n",
       "    </tr>\n",
       "  </thead>\n",
       "  <tbody>\n",
       "    <tr>\n",
       "      <th>0</th>\n",
       "      <td>9772-2411031955--32222-0-13870-2411032120</td>\n",
       "      <td>2024-11-03 16:45:48.489825</td>\n",
       "      <td>164</td>\n",
       "      <td>€</td>\n",
       "      <td>0.999000</td>\n",
       "    </tr>\n",
       "    <tr>\n",
       "      <th>1</th>\n",
       "      <td>9772-2411031625--31685-0-13870-2411031745</td>\n",
       "      <td>2024-11-03 16:45:48.491871</td>\n",
       "      <td>175</td>\n",
       "      <td>€</td>\n",
       "      <td>0.784844</td>\n",
       "    </tr>\n",
       "    <tr>\n",
       "      <th>2</th>\n",
       "      <td>9772-2411031800--32222-0-13870-2411031925</td>\n",
       "      <td>2024-11-03 16:45:48.493592</td>\n",
       "      <td>234</td>\n",
       "      <td>€</td>\n",
       "      <td>0.533734</td>\n",
       "    </tr>\n",
       "  </tbody>\n",
       "</table>\n",
       "</div>"
      ],
      "text/plain": [
       "                                itinerary_id                 query_date  \\\n",
       "0  9772-2411031955--32222-0-13870-2411032120 2024-11-03 16:45:48.489825   \n",
       "1  9772-2411031625--31685-0-13870-2411031745 2024-11-03 16:45:48.491871   \n",
       "2  9772-2411031800--32222-0-13870-2411031925 2024-11-03 16:45:48.493592   \n",
       "\n",
       "   price price_currency     score  \n",
       "0    164              €  0.999000  \n",
       "1    175              €  0.784844  \n",
       "2    234              €  0.533734  "
      ]
     },
     "execution_count": 526,
     "metadata": {},
     "output_type": "execute_result"
    }
   ],
   "source": [
    "flight_prices.head(3)"
   ]
  },
  {
   "cell_type": "code",
   "execution_count": 527,
   "metadata": {},
   "outputs": [],
   "source": [
    "conn.cursor().executemany(\n",
    "    \"\"\"\n",
    "    INSERT INTO flight_prices (\n",
    "        itinerary_id, \n",
    "        query_date, \n",
    "        price, \n",
    "        price_currency, \n",
    "        score\n",
    "    ) VALUES (%s, %s, %s, %s, %s)\n",
    "    \"\"\",\n",
    "    list(flight_prices.itertuples(index=False, name=None))\n",
    ")"
   ]
  },
  {
   "cell_type": "markdown",
   "metadata": {},
   "source": [
    "### 3.3.5 Booking places"
   ]
  },
  {
   "cell_type": "code",
   "execution_count": 528,
   "metadata": {},
   "outputs": [],
   "source": [
    "create_booking_places = \"\"\"\n",
    "CREATE TABLE booking_places (\n",
    "    place_id SERIAL PRIMARY KEY,\n",
    "    city_entityid INT REFERENCES cities(city_entityid) ON DELETE SET NULL,\n",
    "    name VARCHAR(255) NOT NULL,\n",
    "    url VARCHAR(500),\n",
    "    distance_city_center_km NUMERIC,\n",
    "    score NUMERIC,\n",
    "    n_comments INT,\n",
    "    close_to_metro BOOLEAN,\n",
    "    sustainability_cert BOOLEAN,\n",
    "    location_score NUMERIC\n",
    ");\n",
    "\"\"\""
   ]
  },
  {
   "cell_type": "code",
   "execution_count": 529,
   "metadata": {},
   "outputs": [
    {
     "data": {
      "text/html": [
       "<div>\n",
       "<style scoped>\n",
       "    .dataframe tbody tr th:only-of-type {\n",
       "        vertical-align: middle;\n",
       "    }\n",
       "\n",
       "    .dataframe tbody tr th {\n",
       "        vertical-align: top;\n",
       "    }\n",
       "\n",
       "    .dataframe thead th {\n",
       "        text-align: right;\n",
       "    }\n",
       "</style>\n",
       "<table border=\"1\" class=\"dataframe\">\n",
       "  <thead>\n",
       "    <tr style=\"text-align: right;\">\n",
       "      <th></th>\n",
       "      <th>city</th>\n",
       "      <th>name</th>\n",
       "      <th>url</th>\n",
       "      <th>distance_city_center_km</th>\n",
       "      <th>score</th>\n",
       "      <th>n_comments</th>\n",
       "      <th>close_to_metro</th>\n",
       "      <th>sustainability_cert</th>\n",
       "      <th>location_score</th>\n",
       "    </tr>\n",
       "  </thead>\n",
       "  <tbody>\n",
       "    <tr>\n",
       "      <th>0</th>\n",
       "      <td>27548283</td>\n",
       "      <td>Pensión 45</td>\n",
       "      <td>https://www.booking.com/hotel/es/pension-45.es...</td>\n",
       "      <td>0.3</td>\n",
       "      <td>6.5</td>\n",
       "      <td>2798</td>\n",
       "      <td>Yes</td>\n",
       "      <td>No</td>\n",
       "      <td>None</td>\n",
       "    </tr>\n",
       "    <tr>\n",
       "      <th>1</th>\n",
       "      <td>27548283</td>\n",
       "      <td>Nice and comfortable room for your stay in BCN</td>\n",
       "      <td>https://www.booking.com/hotel/es/nice-and-comf...</td>\n",
       "      <td>1.1</td>\n",
       "      <td>10</td>\n",
       "      <td>1</td>\n",
       "      <td>Yes</td>\n",
       "      <td>No</td>\n",
       "      <td>10</td>\n",
       "    </tr>\n",
       "    <tr>\n",
       "      <th>2</th>\n",
       "      <td>27548283</td>\n",
       "      <td>Travelodge Barcelona Poblenou</td>\n",
       "      <td>https://www.booking.com/hotel/es/travelodge-ba...</td>\n",
       "      <td>2.9</td>\n",
       "      <td>7.2</td>\n",
       "      <td>10150</td>\n",
       "      <td>Yes</td>\n",
       "      <td>No</td>\n",
       "      <td>None</td>\n",
       "    </tr>\n",
       "  </tbody>\n",
       "</table>\n",
       "</div>"
      ],
      "text/plain": [
       "       city                                            name  \\\n",
       "0  27548283                                      Pensión 45   \n",
       "1  27548283  Nice and comfortable room for your stay in BCN   \n",
       "2  27548283                   Travelodge Barcelona Poblenou   \n",
       "\n",
       "                                                 url  distance_city_center_km  \\\n",
       "0  https://www.booking.com/hotel/es/pension-45.es...                      0.3   \n",
       "1  https://www.booking.com/hotel/es/nice-and-comf...                      1.1   \n",
       "2  https://www.booking.com/hotel/es/travelodge-ba...                      2.9   \n",
       "\n",
       "  score n_comments close_to_metro sustainability_cert location_score  \n",
       "0   6.5       2798            Yes                  No           None  \n",
       "1    10          1            Yes                  No             10  \n",
       "2   7.2      10150            Yes                  No           None  "
      ]
     },
     "execution_count": 529,
     "metadata": {},
     "output_type": "execute_result"
    }
   ],
   "source": [
    "booking_places.head(3)"
   ]
  },
  {
   "cell_type": "markdown",
   "metadata": {},
   "source": [
    "Map city entity id"
   ]
  },
  {
   "cell_type": "code",
   "execution_count": 530,
   "metadata": {},
   "outputs": [],
   "source": [
    "citi_entityid_map = cities.set_index(\"city_name\")[\"city_entityid\"].to_dict()"
   ]
  },
  {
   "cell_type": "code",
   "execution_count": 531,
   "metadata": {},
   "outputs": [
    {
     "name": "stderr",
     "output_type": "stream",
     "text": [
      "C:\\Users\\Miguel\\AppData\\Local\\Temp\\ipykernel_29064\\2485910053.py:1: SettingWithCopyWarning: \n",
      "A value is trying to be set on a copy of a slice from a DataFrame.\n",
      "Try using .loc[row_indexer,col_indexer] = value instead\n",
      "\n",
      "See the caveats in the documentation: https://pandas.pydata.org/pandas-docs/stable/user_guide/indexing.html#returning-a-view-versus-a-copy\n",
      "  booking_places[\"city\"] = booking_places[\"city\"].map(citi_entityid_map)\n"
     ]
    }
   ],
   "source": [
    "booking_places[\"city\"] = booking_places[\"city\"].map(citi_entityid_map)"
   ]
  },
  {
   "cell_type": "code",
   "execution_count": 532,
   "metadata": {},
   "outputs": [
    {
     "data": {
      "text/html": [
       "<div>\n",
       "<style scoped>\n",
       "    .dataframe tbody tr th:only-of-type {\n",
       "        vertical-align: middle;\n",
       "    }\n",
       "\n",
       "    .dataframe tbody tr th {\n",
       "        vertical-align: top;\n",
       "    }\n",
       "\n",
       "    .dataframe thead th {\n",
       "        text-align: right;\n",
       "    }\n",
       "</style>\n",
       "<table border=\"1\" class=\"dataframe\">\n",
       "  <thead>\n",
       "    <tr style=\"text-align: right;\">\n",
       "      <th></th>\n",
       "      <th>city</th>\n",
       "      <th>name</th>\n",
       "      <th>url</th>\n",
       "      <th>distance_city_center_km</th>\n",
       "      <th>score</th>\n",
       "      <th>n_comments</th>\n",
       "      <th>close_to_metro</th>\n",
       "      <th>sustainability_cert</th>\n",
       "      <th>location_score</th>\n",
       "    </tr>\n",
       "  </thead>\n",
       "  <tbody>\n",
       "    <tr>\n",
       "      <th>0</th>\n",
       "      <td>NaN</td>\n",
       "      <td>Pensión 45</td>\n",
       "      <td>https://www.booking.com/hotel/es/pension-45.es...</td>\n",
       "      <td>0.3</td>\n",
       "      <td>6.5</td>\n",
       "      <td>2798</td>\n",
       "      <td>Yes</td>\n",
       "      <td>No</td>\n",
       "      <td>None</td>\n",
       "    </tr>\n",
       "    <tr>\n",
       "      <th>1</th>\n",
       "      <td>NaN</td>\n",
       "      <td>Nice and comfortable room for your stay in BCN</td>\n",
       "      <td>https://www.booking.com/hotel/es/nice-and-comf...</td>\n",
       "      <td>1.1</td>\n",
       "      <td>10</td>\n",
       "      <td>1</td>\n",
       "      <td>Yes</td>\n",
       "      <td>No</td>\n",
       "      <td>10</td>\n",
       "    </tr>\n",
       "  </tbody>\n",
       "</table>\n",
       "</div>"
      ],
      "text/plain": [
       "   city                                            name  \\\n",
       "0   NaN                                      Pensión 45   \n",
       "1   NaN  Nice and comfortable room for your stay in BCN   \n",
       "\n",
       "                                                 url  distance_city_center_km  \\\n",
       "0  https://www.booking.com/hotel/es/pension-45.es...                      0.3   \n",
       "1  https://www.booking.com/hotel/es/nice-and-comf...                      1.1   \n",
       "\n",
       "  score n_comments close_to_metro sustainability_cert location_score  \n",
       "0   6.5       2798            Yes                  No           None  \n",
       "1    10          1            Yes                  No             10  "
      ]
     },
     "execution_count": 532,
     "metadata": {},
     "output_type": "execute_result"
    }
   ],
   "source": [
    "booking_places.head(2)"
   ]
  },
  {
   "cell_type": "code",
   "execution_count": 535,
   "metadata": {},
   "outputs": [
    {
     "name": "stdout",
     "output_type": "stream",
     "text": [
      "<class 'pandas.core.frame.DataFrame'>\n",
      "RangeIndex: 233 entries, 0 to 232\n",
      "Data columns (total 9 columns):\n",
      " #   Column                   Non-Null Count  Dtype  \n",
      "---  ------                   --------------  -----  \n",
      " 0   city                     0 non-null      float64\n",
      " 1   name                     233 non-null    object \n",
      " 2   url                      233 non-null    object \n",
      " 3   distance_city_center_km  233 non-null    float64\n",
      " 4   score                    223 non-null    object \n",
      " 5   n_comments               223 non-null    object \n",
      " 6   close_to_metro           233 non-null    object \n",
      " 7   sustainability_cert      233 non-null    object \n",
      " 8   location_score           55 non-null     object \n",
      "dtypes: float64(2), object(7)\n",
      "memory usage: 16.5+ KB\n"
     ]
    }
   ],
   "source": [
    "booking_places.info()"
   ]
  },
  {
   "cell_type": "code",
   "execution_count": 537,
   "metadata": {},
   "outputs": [
    {
     "name": "stderr",
     "output_type": "stream",
     "text": [
      "C:\\Users\\Miguel\\AppData\\Local\\Temp\\ipykernel_29064\\4010039514.py:1: SettingWithCopyWarning: \n",
      "A value is trying to be set on a copy of a slice from a DataFrame.\n",
      "Try using .loc[row_indexer,col_indexer] = value instead\n",
      "\n",
      "See the caveats in the documentation: https://pandas.pydata.org/pandas-docs/stable/user_guide/indexing.html#returning-a-view-versus-a-copy\n",
      "  booking_places[[\"n_comments\",\"location_score\",\"score\",\"distance_city_center_km\"]] = booking_places[[\"n_comments\",\"location_score\",\"score\",\"distance_city_center_km\"]].astype(float)\n"
     ]
    }
   ],
   "source": [
    "booking_places[[\"n_comments\",\"location_score\",\"score\",\"distance_city_center_km\"]] = booking_places[[\"n_comments\",\"location_score\",\"score\",\"distance_city_center_km\"]].astype(float)"
   ]
  },
  {
   "cell_type": "code",
   "execution_count": null,
   "metadata": {},
   "outputs": [],
   "source": [
    "create_booking_places = \"\"\"\n",
    "CREATE TABLE booking_places (\n",
    "    place_id SERIAL PRIMARY KEY,\n",
    "    city_entityid INT REFERENCES cities(city_entityid) ON DELETE SET NULL,\n",
    "    name VARCHAR(255) NOT NULL,\n",
    "    url VARCHAR(500),\n",
    "    distance_city_center_km NUMERIC,\n",
    "    score NUMERIC,\n",
    "    n_comments INT,\n",
    "    close_to_metro BOOLEAN,\n",
    "    sustainability_cert BOOLEAN,\n",
    "    location_score NUMERIC\n",
    ");\n",
    "\"\"\""
   ]
  },
  {
   "cell_type": "code",
   "execution_count": 538,
   "metadata": {},
   "outputs": [
    {
     "ename": "NumericValueOutOfRange",
     "evalue": "entero fuera de rango\n",
     "output_type": "error",
     "traceback": [
      "\u001b[1;31m---------------------------------------------------------------------------\u001b[0m",
      "\u001b[1;31mNumericValueOutOfRange\u001b[0m                    Traceback (most recent call last)",
      "Cell \u001b[1;32mIn[538], line 1\u001b[0m\n\u001b[1;32m----> 1\u001b[0m \u001b[43mconn\u001b[49m\u001b[38;5;241;43m.\u001b[39;49m\u001b[43mcursor\u001b[49m\u001b[43m(\u001b[49m\u001b[43m)\u001b[49m\u001b[38;5;241;43m.\u001b[39;49m\u001b[43mexecutemany\u001b[49m\u001b[43m(\u001b[49m\n\u001b[0;32m      2\u001b[0m \u001b[38;5;250;43m    \u001b[39;49m\u001b[38;5;124;43;03m\"\"\"\u001b[39;49;00m\n\u001b[0;32m      3\u001b[0m \u001b[38;5;124;43;03m    INSERT INTO booking_places (\u001b[39;49;00m\n\u001b[0;32m      4\u001b[0m \u001b[38;5;124;43;03m        city_entityid, \u001b[39;49;00m\n\u001b[0;32m      5\u001b[0m \u001b[38;5;124;43;03m        name, \u001b[39;49;00m\n\u001b[0;32m      6\u001b[0m \u001b[38;5;124;43;03m        url, \u001b[39;49;00m\n\u001b[0;32m      7\u001b[0m \u001b[38;5;124;43;03m        distance_city_center_km, \u001b[39;49;00m\n\u001b[0;32m      8\u001b[0m \u001b[38;5;124;43;03m        score,\u001b[39;49;00m\n\u001b[0;32m      9\u001b[0m \u001b[38;5;124;43;03m        n_comments,\u001b[39;49;00m\n\u001b[0;32m     10\u001b[0m \u001b[38;5;124;43;03m        close_to_metro,\u001b[39;49;00m\n\u001b[0;32m     11\u001b[0m \u001b[38;5;124;43;03m        sustainability_cert,\u001b[39;49;00m\n\u001b[0;32m     12\u001b[0m \u001b[38;5;124;43;03m        location_score\u001b[39;49;00m\n\u001b[0;32m     13\u001b[0m \u001b[38;5;124;43;03m    ) VALUES (%s, %s, %s, %s, %s,%s, %s, %s, %s)\u001b[39;49;00m\n\u001b[0;32m     14\u001b[0m \u001b[38;5;124;43;03m    \"\"\"\u001b[39;49;00m\u001b[43m,\u001b[49m\n\u001b[0;32m     15\u001b[0m \u001b[43m    \u001b[49m\u001b[38;5;28;43mlist\u001b[39;49m\u001b[43m(\u001b[49m\u001b[43mbooking_places\u001b[49m\u001b[38;5;241;43m.\u001b[39;49m\u001b[43mitertuples\u001b[49m\u001b[43m(\u001b[49m\u001b[43mindex\u001b[49m\u001b[38;5;241;43m=\u001b[39;49m\u001b[38;5;28;43;01mFalse\u001b[39;49;00m\u001b[43m,\u001b[49m\u001b[43m \u001b[49m\u001b[43mname\u001b[49m\u001b[38;5;241;43m=\u001b[39;49m\u001b[38;5;28;43;01mNone\u001b[39;49;00m\u001b[43m)\u001b[49m\u001b[43m)\u001b[49m\n\u001b[0;32m     16\u001b[0m \u001b[43m)\u001b[49m\n",
      "\u001b[1;31mNumericValueOutOfRange\u001b[0m: entero fuera de rango\n"
     ]
    }
   ],
   "source": [
    "conn.cursor().executemany(\n",
    "    \"\"\"\n",
    "    INSERT INTO booking_places (\n",
    "        city_entityid, \n",
    "        name, \n",
    "        url, \n",
    "        distance_city_center_km, \n",
    "        score,\n",
    "        n_comments,\n",
    "        close_to_metro,\n",
    "        sustainability_cert,\n",
    "        location_score\n",
    "    ) VALUES (%s, %s, %s, %s, %s,%s, %s, %s, %s)\n",
    "    \"\"\",\n",
    "    list(booking_places.itertuples(index=False, name=None))\n",
    ")"
   ]
  },
  {
   "cell_type": "markdown",
   "metadata": {},
   "source": []
  },
  {
   "cell_type": "markdown",
   "metadata": {},
   "source": []
  },
  {
   "cell_type": "markdown",
   "metadata": {},
   "source": []
  },
  {
   "cell_type": "markdown",
   "metadata": {},
   "source": []
  },
  {
   "cell_type": "markdown",
   "metadata": {},
   "source": []
  }
 ],
 "metadata": {
  "kernelspec": {
   "display_name": "5._Travel_planning_V2-mWPstoFm",
   "language": "python",
   "name": "python3"
  },
  "language_info": {
   "codemirror_mode": {
    "name": "ipython",
    "version": 3
   },
   "file_extension": ".py",
   "mimetype": "text/x-python",
   "name": "python",
   "nbconvert_exporter": "python",
   "pygments_lexer": "ipython3",
   "version": "3.11.0b4"
  }
 },
 "nbformat": 4,
 "nbformat_minor": 2
}
